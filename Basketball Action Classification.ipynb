{
  "cells": [
    {
      "cell_type": "markdown",
      "metadata": {
        "id": "90fS1F3Uffmz"
      },
      "source": [
        ".\n",
        "..............................................................................................................................................................................................................................## **Preprocessing** **part**"
      ]
    },
    {
      "cell_type": "markdown",
      "metadata": {
        "id": "TZzWpHekWBT1"
      },
      "source": [
        "Install necessary function"
      ]
    },
    {
      "cell_type": "code",
      "execution_count": null,
      "metadata": {
        "colab": {
          "base_uri": "https://localhost:8080/"
        },
        "id": "1Y_cnOuyWA_o",
        "outputId": "8b55f7e0-faef-4ca4-ad74-0ea40a8002a2"
      },
      "outputs": [
        {
          "name": "stdout",
          "output_type": "stream",
          "text": [
            "Requirement already satisfied: torch in /usr/local/lib/python3.10/dist-packages (2.2.1+cu121)\n",
            "Requirement already satisfied: torchvision in /usr/local/lib/python3.10/dist-packages (0.17.1+cu121)\n",
            "Requirement already satisfied: filelock in /usr/local/lib/python3.10/dist-packages (from torch) (3.14.0)\n",
            "Requirement already satisfied: typing-extensions>=4.8.0 in /usr/local/lib/python3.10/dist-packages (from torch) (4.11.0)\n",
            "Requirement already satisfied: sympy in /usr/local/lib/python3.10/dist-packages (from torch) (1.12)\n",
            "Requirement already satisfied: networkx in /usr/local/lib/python3.10/dist-packages (from torch) (3.3)\n",
            "Requirement already satisfied: jinja2 in /usr/local/lib/python3.10/dist-packages (from torch) (3.1.4)\n",
            "Requirement already satisfied: fsspec in /usr/local/lib/python3.10/dist-packages (from torch) (2023.6.0)\n",
            "Collecting nvidia-cuda-nvrtc-cu12==12.1.105 (from torch)\n",
            "  Using cached nvidia_cuda_nvrtc_cu12-12.1.105-py3-none-manylinux1_x86_64.whl (23.7 MB)\n",
            "Collecting nvidia-cuda-runtime-cu12==12.1.105 (from torch)\n",
            "  Using cached nvidia_cuda_runtime_cu12-12.1.105-py3-none-manylinux1_x86_64.whl (823 kB)\n",
            "Collecting nvidia-cuda-cupti-cu12==12.1.105 (from torch)\n",
            "  Using cached nvidia_cuda_cupti_cu12-12.1.105-py3-none-manylinux1_x86_64.whl (14.1 MB)\n",
            "Collecting nvidia-cudnn-cu12==8.9.2.26 (from torch)\n",
            "  Using cached nvidia_cudnn_cu12-8.9.2.26-py3-none-manylinux1_x86_64.whl (731.7 MB)\n",
            "Collecting nvidia-cublas-cu12==12.1.3.1 (from torch)\n",
            "  Using cached nvidia_cublas_cu12-12.1.3.1-py3-none-manylinux1_x86_64.whl (410.6 MB)\n",
            "Collecting nvidia-cufft-cu12==11.0.2.54 (from torch)\n",
            "  Using cached nvidia_cufft_cu12-11.0.2.54-py3-none-manylinux1_x86_64.whl (121.6 MB)\n",
            "Collecting nvidia-curand-cu12==10.3.2.106 (from torch)\n",
            "  Using cached nvidia_curand_cu12-10.3.2.106-py3-none-manylinux1_x86_64.whl (56.5 MB)\n",
            "Collecting nvidia-cusolver-cu12==11.4.5.107 (from torch)\n",
            "  Using cached nvidia_cusolver_cu12-11.4.5.107-py3-none-manylinux1_x86_64.whl (124.2 MB)\n",
            "Collecting nvidia-cusparse-cu12==12.1.0.106 (from torch)\n",
            "  Using cached nvidia_cusparse_cu12-12.1.0.106-py3-none-manylinux1_x86_64.whl (196.0 MB)\n",
            "Collecting nvidia-nccl-cu12==2.19.3 (from torch)\n",
            "  Using cached nvidia_nccl_cu12-2.19.3-py3-none-manylinux1_x86_64.whl (166.0 MB)\n",
            "Collecting nvidia-nvtx-cu12==12.1.105 (from torch)\n",
            "  Using cached nvidia_nvtx_cu12-12.1.105-py3-none-manylinux1_x86_64.whl (99 kB)\n",
            "Requirement already satisfied: triton==2.2.0 in /usr/local/lib/python3.10/dist-packages (from torch) (2.2.0)\n",
            "Collecting nvidia-nvjitlink-cu12 (from nvidia-cusolver-cu12==11.4.5.107->torch)\n",
            "  Using cached nvidia_nvjitlink_cu12-12.4.127-py3-none-manylinux2014_x86_64.whl (21.1 MB)\n",
            "Requirement already satisfied: numpy in /usr/local/lib/python3.10/dist-packages (from torchvision) (1.25.2)\n",
            "Requirement already satisfied: pillow!=8.3.*,>=5.3.0 in /usr/local/lib/python3.10/dist-packages (from torchvision) (9.4.0)\n",
            "Requirement already satisfied: MarkupSafe>=2.0 in /usr/local/lib/python3.10/dist-packages (from jinja2->torch) (2.1.5)\n",
            "Requirement already satisfied: mpmath>=0.19 in /usr/local/lib/python3.10/dist-packages (from sympy->torch) (1.3.0)\n",
            "Installing collected packages: nvidia-nvtx-cu12, nvidia-nvjitlink-cu12, nvidia-nccl-cu12, nvidia-curand-cu12, nvidia-cufft-cu12, nvidia-cuda-runtime-cu12, nvidia-cuda-nvrtc-cu12, nvidia-cuda-cupti-cu12, nvidia-cublas-cu12, nvidia-cusparse-cu12, nvidia-cudnn-cu12, nvidia-cusolver-cu12\n",
            "Successfully installed nvidia-cublas-cu12-12.1.3.1 nvidia-cuda-cupti-cu12-12.1.105 nvidia-cuda-nvrtc-cu12-12.1.105 nvidia-cuda-runtime-cu12-12.1.105 nvidia-cudnn-cu12-8.9.2.26 nvidia-cufft-cu12-11.0.2.54 nvidia-curand-cu12-10.3.2.106 nvidia-cusolver-cu12-11.4.5.107 nvidia-cusparse-cu12-12.1.0.106 nvidia-nccl-cu12-2.19.3 nvidia-nvjitlink-cu12-12.4.127 nvidia-nvtx-cu12-12.1.105\n",
            "Requirement already satisfied: opencv-python in /usr/local/lib/python3.10/dist-packages (4.8.0.76)\n",
            "Requirement already satisfied: numpy>=1.21.2 in /usr/local/lib/python3.10/dist-packages (from opencv-python) (1.25.2)\n"
          ]
        }
      ],
      "source": [
        "!pip install torch torchvision\n",
        "!pip install opencv-python\n",
        "\n",
        "import json\n",
        "import numpy as np\n",
        "import cv2\n",
        "import torch\n",
        "import os\n",
        "from torch.utils.data import Dataset\n",
        "from torchvision import transforms\n",
        "from google.colab import drive\n",
        "from tqdm import tqdm"
      ]
    },
    {
      "cell_type": "code",
      "execution_count": null,
      "metadata": {
        "colab": {
          "base_uri": "https://localhost:8080/"
        },
        "id": "-dd-io8W7lov",
        "outputId": "fdf55b09-77fa-4554-de35-42f7e8175ed3"
      },
      "outputs": [
        {
          "output_type": "stream",
          "name": "stdout",
          "text": [
            "Mounted at /content/drive\n"
          ]
        }
      ],
      "source": [
        "from google.colab import drive\n",
        "drive.mount('/content/drive')"
      ]
    },
    {
      "cell_type": "markdown",
      "metadata": {
        "id": "CyyrAfZidAzy"
      },
      "source": [
        "Augmentation"
      ]
    },
    {
      "cell_type": "code",
      "execution_count": null,
      "metadata": {
        "colab": {
          "base_uri": "https://localhost:8080/"
        },
        "id": "JYcD-hp9dAgH",
        "outputId": "b0328a20-2c01-498a-cad9-bc0460c4dd1f"
      },
      "outputs": [
        {
          "name": "stderr",
          "output_type": "stream",
          "text": [
            "100%|██████████| 37085/37085 [32:01<00:00, 19.30it/s]\n"
          ]
        }
      ],
      "source": [
        "base_dir = '/content/drive/My Drive/dataset/'\n",
        "output_dir = base_dir + 'augmented-examples/'\n",
        "if not os.path.exists(output_dir):\n",
        "    os.makedirs(output_dir)\n",
        "def keystoint(x):\n",
        "    \"\"\" Convert dictionary keys to integers, useful for JSON keys. \"\"\"\n",
        "    return {int(k): v for k, v in x.items()}\n",
        "\n",
        "def rotateVideo(path, output_dir, video_id, degree):\n",
        "    \"\"\" Rotate the video by a specified degree and save it. \"\"\"\n",
        "\n",
        "    video = cv2.VideoCapture(path)\n",
        "    frame_width = int(video.get(cv2.CAP_PROP_FRAME_WIDTH))\n",
        "    frame_height = int(video.get(cv2.CAP_PROP_FRAME_HEIGHT))\n",
        "    fps = video.get(cv2.CAP_PROP_FPS)\n",
        "\n",
        "    fourcc = cv2.VideoWriter_fourcc(*'mp4v')\n",
        "    out_rotate = cv2.VideoWriter(output_dir + video_id + \"_rotate_\" + str(degree) + \".mp4\", fourcc, fps, (frame_width, frame_height))\n",
        "\n",
        "    while video.isOpened():\n",
        "        success, frame = video.read()\n",
        "        if not success:\n",
        "            break\n",
        "\n",
        "        rotation_matrix = cv2.getRotationMatrix2D((frame_width / 2, frame_height / 2), degree, 1)\n",
        "        rotated_frame = cv2.warpAffine(frame, rotation_matrix, (frame_width, frame_height))\n",
        "        out_rotate.write(rotated_frame)\n",
        "\n",
        "    video.release()\n",
        "    out_rotate.release()\n",
        "\n",
        "def translateVideo(path, output_dir, video_id, translate=(0, 0)):\n",
        "    \"\"\" Translate the video by specified pixels and save it. \"\"\"\n",
        "    video = cv2.VideoCapture(path)\n",
        "    frame_width = int(video.get(cv2.CAP_PROP_FRAME_WIDTH))\n",
        "    frame_height = int(video.get(cv2.CAP_PROP_FRAME_HEIGHT))\n",
        "    fps = video.get(cv2.CAP_PROP_FPS)\n",
        "\n",
        "    fourcc = cv2.VideoWriter_fourcc(*'mp4v')\n",
        "    out_translate = cv2.VideoWriter(output_dir + video_id + \"_translate_\" + str(translate[0]) + \"_\" + str(translate[1]) + \".mp4\", fourcc, fps, (frame_width, frame_height))\n",
        "\n",
        "    while video.isOpened():\n",
        "        success, frame = video.read()\n",
        "        if not success:\n",
        "            break\n",
        "\n",
        "        M = np.float32([[1, 0, translate[0]], [0, 1, translate[1]]])\n",
        "        dst = cv2.warpAffine(frame, M, (frame_width, frame_height))\n",
        "        out_translate.write(dst)\n",
        "\n",
        "    video.release()\n",
        "    out_translate.release()\n",
        "\n",
        "def augmentVideo(annotation_dict, labels_dict, data_dir=base_dir + 'examples/', output_dir=base_dir + 'augmented-examples/'):\n",
        "    \"\"\" Augment videos with rotation and translation transformations. \"\"\"\n",
        "    with open(annotation_dict, 'r') as f:\n",
        "        annotation_dict = json.load(f)\n",
        "        video_list = list(annotation_dict.items())\n",
        "\n",
        "    with open(labels_dict, 'r') as f:\n",
        "        labels_dict = json.load(f,object_hook=keystoint)\n",
        "\n",
        "    # Count the distribution of actions\n",
        "    count_dict = dict()\n",
        "    for key, value in annotation_dict.items():\n",
        "        action = labels_dict[value]\n",
        "        if action in count_dict:\n",
        "            count_dict[action] += 1\n",
        "        else:\n",
        "            count_dict[action] = 1\n",
        "\n",
        "    # Find actions with fewer than 2000 examples\n",
        "    filtered_actions = [action for action, count in count_dict.items() if count <= 2000]\n",
        "\n",
        "    # Prepare to augment videos\n",
        "    augmented_annotation = dict()\n",
        "    pbar = tqdm(video_list)\n",
        "    for video_id, action in pbar:\n",
        "        if labels_dict[action] in filtered_actions:\n",
        "            path = data_dir + video_id + \".mp4\"\n",
        "\n",
        "            # Rotate and translate the video, save augmented videos\n",
        "            augmented_annotation[video_id + \"_rotate_30\"] = action\n",
        "            rotateVideo(path, output_dir, video_id, 30)\n",
        "\n",
        "            augmented_annotation[video_id + \"_rotate_330\"] = action\n",
        "            rotateVideo(path, output_dir, video_id, 330)\n",
        "\n",
        "            augmented_annotation[video_id + \"_translate_32_0\"] = action\n",
        "            translateVideo(path, output_dir, video_id, (32, 0))\n",
        "\n",
        "            augmented_annotation[video_id + \"_translate_-32_0\"] = action\n",
        "            translateVideo(path, output_dir, video_id, (-32, 0))\n",
        "\n",
        "    # Save new annotations\n",
        "    with open(output_dir + 'augmented_annotation_dict.json', 'w') as fp:\n",
        "        json.dump(augmented_annotation, fp)\n",
        "\n",
        "if __name__ == \"__main__\":\n",
        "    augmentVideo(base_dir + \"annotation_dict.json\", base_dir + \"labels_dict.json\")\n"
      ]
    },
    {
      "cell_type": "markdown",
      "metadata": {
        "id": "btbjgshUTrY3"
      },
      "source": [
        "Loading data"
      ]
    },
    {
      "cell_type": "code",
      "execution_count": null,
      "metadata": {
        "colab": {
          "base_uri": "https://localhost:8080/"
        },
        "id": "jMaQlQFR2Uu1",
        "outputId": "da6465e0-a84a-4c01-b84b-b2e7788ef625"
      },
      "outputs": [
        {
          "name": "stdout",
          "output_type": "stream",
          "text": [
            "Total samples: 37085\n",
            "Class counts:\n",
            "block: 996\n",
            "walk: 11749\n",
            "defense: 3866\n",
            "pass: 1070\n",
            "no_action: 6490\n",
            "run: 5924\n",
            "shoot: 426\n",
            "dribble: 3490\n",
            "pick: 712\n",
            "ball in hand: 2362\n"
          ]
        }
      ],
      "source": [
        "import json\n",
        "\n",
        "def load_dict_from_json(file_path):\n",
        "    with open(file_path) as f:\n",
        "        return json.load(f)\n",
        "\n",
        "def count_samples(annotation_dict_path, label_dict_path):\n",
        "    annotation_dict = load_dict_from_json(annotation_dict_path)\n",
        "    label_dict = load_dict_from_json(label_dict_path)\n",
        "\n",
        "    total_samples = len(annotation_dict)\n",
        "    class_counts = {label: 0 for label in set(label_dict.values()) if label != \"discard\"}\n",
        "\n",
        "    for video_id, label_index in annotation_dict.items():\n",
        "        label = label_dict[str(label_index)]\n",
        "        if label != \"discard\":\n",
        "            class_counts[label] += 1\n",
        "\n",
        "    return total_samples, class_counts\n",
        "\n",
        "# 設置 annotation_dict 和 label_dict 的路徑\n",
        "annotation_dict_path = '/content/drive/My Drive/dataset/annotation_dict.json'\n",
        "label_dict_path = '/content/drive/My Drive/dataset/labels_dict.json'\n",
        "\n",
        "# 計算總樣本數和各個類別的數量\n",
        "total_samples, class_counts = count_samples(annotation_dict_path, label_dict_path)\n",
        "\n",
        "print(\"Total samples:\", total_samples)\n",
        "print(\"Class counts:\")\n",
        "for label, count in class_counts.items():\n",
        "    print(f\"{label}: {count}\")\n"
      ]
    },
    {
      "cell_type": "code",
      "execution_count": null,
      "metadata": {
        "colab": {
          "base_uri": "https://localhost:8080/"
        },
        "id": "sG7lgEIBz7u1",
        "outputId": "61dac185-2ce6-48cf-a151-7380a2f5e2ae"
      },
      "outputs": [
        {
          "name": "stdout",
          "output_type": "stream",
          "text": [
            "Total samples: 12814\n",
            "Class counts:\n",
            "block: 3982\n",
            "walk: 0\n",
            "defense: 0\n",
            "pass: 4280\n",
            "no_action: 0\n",
            "run: 0\n",
            "shoot: 1704\n",
            "dribble: 0\n",
            "pick: 2848\n",
            "ball in hand: 0\n"
          ]
        }
      ],
      "source": [
        "import json\n",
        "\n",
        "def load_dict_from_json(file_path):\n",
        "    with open(file_path) as f:\n",
        "        return json.load(f)\n",
        "\n",
        "def count_samples(annotation_dict_path, label_dict_path):\n",
        "    annotation_dict = load_dict_from_json(annotation_dict_path)\n",
        "    label_dict = load_dict_from_json(label_dict_path)\n",
        "\n",
        "    total_samples = len(annotation_dict)\n",
        "    class_counts = {label: 0 for label in set(label_dict.values()) if label != \"discard\"}\n",
        "\n",
        "    for video_id, label_index in annotation_dict.items():\n",
        "        label = label_dict[str(label_index)]\n",
        "        if label != \"discard\":\n",
        "            class_counts[label] += 1\n",
        "\n",
        "    return total_samples, class_counts\n",
        "\n",
        "# 設置 annotation_dict 和 label_dict 的路徑\n",
        "annotation_dict_path = '/content/drive/My Drive/dataset/augmented_annotation_dict.json'\n",
        "label_dict_path = '/content/drive/My Drive/dataset/labels_dict.json'\n",
        "\n",
        "# 計算總樣本數和各個類別的數量\n",
        "total_samples, class_counts = count_samples(annotation_dict_path, label_dict_path)\n",
        "\n",
        "print(\"Total samples:\", total_samples)\n",
        "print(\"Class counts:\")\n",
        "for label, count in class_counts.items():\n",
        "    print(f\"{label}: {count}\")"
      ]
    },
    {
      "cell_type": "code",
      "execution_count": null,
      "metadata": {
        "colab": {
          "base_uri": "https://localhost:8080/"
        },
        "id": "gIIZMhckqiTb",
        "outputId": "e6393a89-c433-4cd5-ae55-542eb4d2d85b"
      },
      "outputs": [
        {
          "name": "stdout",
          "output_type": "stream",
          "text": [
            "tensor([0., 0., 0., 0., 0., 0., 0., 0., 1., 0.], dtype=torch.float64)\n",
            "8\n",
            "49899\n"
          ]
        }
      ],
      "source": [
        "import json\n",
        "import numpy as np\n",
        "import cv2\n",
        "\n",
        "import torch\n",
        "from torch.utils.data import Dataset\n",
        "from torchvision import transforms\n",
        "base_dir = '/content/drive/My Drive/dataset/'\n",
        "class BasketballDataset(Dataset):\n",
        "    \"\"\"SpaceJam: a Dataset for Basketball Action Recognition.\"\"\"\n",
        "\n",
        "    def __init__(self, annotation_dict, augmented_dict, video_dir=base_dir+\"examples/\", augmented_dir=base_dir+\"augmented-examples/\", augment=True, transform=None, poseData=False):\n",
        "        with open(annotation_dict) as f:\n",
        "            self.video_list = list(json.load(f).items())\n",
        "\n",
        "        if augment == True:\n",
        "            self.augment = augment\n",
        "            with open(augmented_dict) as f:\n",
        "                augmented_list = list(json.load(f).items())\n",
        "            self.augmented_dir = augmented_dir\n",
        "            # extend with augmented data\n",
        "            self.video_list.extend(augmented_list)\n",
        "\n",
        "        self.video_dir = video_dir\n",
        "        self.poseData = poseData\n",
        "        self.transform = transform\n",
        "\n",
        "    def __len__(self):\n",
        "        # return length of none-flipped videos in directory\n",
        "        return len(self.video_list)\n",
        "\n",
        "    def __getitem__(self, idx):\n",
        "        video_id = self.video_list[idx][0]\n",
        "        encoding = np.squeeze(np.eye(10)[np.array([0,1,2,3,4,5,6,7,8,9]).reshape(-1)])\n",
        "        if self.poseData and self.augment==False:\n",
        "            joints = np.load(self.video_dir + video_id + \".npy\", allow_pickle=True)\n",
        "            sample = {'video_id': video_id, 'joints': joints, 'action': torch.from_numpy(np.array(encoding[self.video_list[idx][1]])), 'class': self.video_list[idx][1]}\n",
        "        else:\n",
        "            video = self.VideoToNumpy(video_id)\n",
        "            sample = {'video_id': video_id, 'video': torch.from_numpy(video).float(), 'action': torch.from_numpy(np.array(encoding[self.video_list[idx][1]])), 'class': self.video_list[idx][1]}\n",
        "\n",
        "        return sample\n",
        "\n",
        "    def keystoint(self, x):\n",
        "        return {int(k): v for k, v in x.items()}\n",
        "\n",
        "    def VideoToNumpy(self, video_id):\n",
        "        # get video\n",
        "        video = cv2.VideoCapture(self.video_dir + video_id + \".mp4\")\n",
        "\n",
        "        if not video.isOpened():\n",
        "            video = cv2.VideoCapture(self.augmented_dir + video_id + \".mp4\")\n",
        "        if not video.isOpened():\n",
        "            raise Exception(\"Video file not readable\")\n",
        "\n",
        "        video_frames = []\n",
        "        while (video.isOpened()):\n",
        "            # read video\n",
        "            success, frame = video.read()\n",
        "            if not success:\n",
        "                break\n",
        "\n",
        "            frame = np.asarray([frame[..., i] for i in range(frame.shape[-1])]).astype(float)\n",
        "            video_frames.append(frame)\n",
        "\n",
        "        video.release()\n",
        "        assert len(video_frames) == 16\n",
        "        return np.transpose(np.asarray(video_frames), (1,0,2,3))\n",
        "\n",
        "\n",
        "if __name__ == \"__main__\":\n",
        "\n",
        "    basketball_dataset = BasketballDataset(annotation_dict= base_dir +\"annotation_dict.json\",\n",
        "                                           augmented_dict= base_dir+\"augmented_annotation_dict.json\")\n",
        "\n",
        "    print(basketball_dataset[1]['action'])\n",
        "    print(basketball_dataset[1]['class'])\n",
        "    print(len(basketball_dataset))"
      ]
    },
    {
      "cell_type": "markdown",
      "metadata": {
        "id": "BB40koX8fXWH"
      },
      "source": [
        "## **Model**"
      ]
    },
    {
      "cell_type": "markdown",
      "metadata": {
        "id": "4Mxvd58--VJl"
      },
      "source": [
        "Majority Class"
      ]
    },
    {
      "cell_type": "code",
      "execution_count": null,
      "metadata": {
        "colab": {
          "base_uri": "https://localhost:8080/"
        },
        "id": "NX0IKF7_fXH_",
        "outputId": "c084e17c-0967-4f5d-ac43-c7751db3da2f"
      },
      "outputs": [
        {
          "name": "stdout",
          "output_type": "stream",
          "text": [
            "The majority class is '9' with 11749 instances.\n",
            "Baseline accuracy using the majority class is 23.55%.\n"
          ]
        }
      ],
      "source": [
        "import json\n",
        "\n",
        "def load_annotations(paths):\n",
        "    \"\"\" Load and combine annotation data from multiple JSON files. \"\"\"\n",
        "    combined_annotations = {}\n",
        "    for path in paths:\n",
        "        with open(path, 'r') as file:\n",
        "            annotations = json.load(file)\n",
        "            combined_annotations.update(annotations)\n",
        "    return combined_annotations\n",
        "\n",
        "def find_majority_class(annotations):\n",
        "    \"\"\" Find the majority class in the annotation data. \"\"\"\n",
        "    class_count = {}\n",
        "    for action in annotations.values():\n",
        "        if action in class_count:\n",
        "            class_count[action] += 1\n",
        "        else:\n",
        "            class_count[action] = 1\n",
        "    majority_class = max(class_count, key=class_count.get)\n",
        "    return majority_class, class_count[majority_class]\n",
        "\n",
        "def evaluate_baseline(majority_class, annotations):\n",
        "    \"\"\" Evaluate the baseline model based on the majority class. \"\"\"\n",
        "    correct_predictions = sum(1 for action in annotations.values() if action == majority_class)\n",
        "    total_predictions = len(annotations)\n",
        "    accuracy = correct_predictions / total_predictions\n",
        "    return accuracy\n",
        "\n",
        "if __name__ == \"__main__\":\n",
        "    # Define the paths to your annotation files\n",
        "    annotation_paths = [\n",
        "        '/content/drive/My Drive/dataset/annotation_dict.json',\n",
        "        '/content/drive/My Drive/dataset/augmented_annotation_dict.json'\n",
        "    ]\n",
        "\n",
        "    # Load and combine annotations from both files\n",
        "    annotations = load_annotations(annotation_paths)\n",
        "\n",
        "    # Find the majority class\n",
        "    majority_class, count = find_majority_class(annotations)\n",
        "    print(f\"The majority class is '{majority_class}' with {count} instances.\")\n",
        "\n",
        "    # Evaluate the baseline model\n",
        "    accuracy = evaluate_baseline(majority_class, annotations)\n",
        "    print(f\"Baseline accuracy using the majority class is {accuracy:.2%}.\")"
      ]
    },
    {
      "cell_type": "code",
      "source": [
        "import json\n",
        "from sklearn.metrics import f1_score, precision_score, recall_score\n",
        "\n",
        "def load_annotations(paths):\n",
        "    \"\"\" Load and combine annotation data from multiple JSON files. \"\"\"\n",
        "    combined_annotations = {}\n",
        "    for path in paths:\n",
        "        with open(path, 'r') as file:\n",
        "            annotations = json.load(file)\n",
        "            combined_annotations.update(annotations)\n",
        "    return combined_annotations\n",
        "\n",
        "def find_majority_class(annotations):\n",
        "    \"\"\" Find the majority class in the annotation data. \"\"\"\n",
        "    class_count = {}\n",
        "    for action in annotations.values():\n",
        "        if action in class_count:\n",
        "            class_count[action] += 1\n",
        "        else:\n",
        "            class_count[action] = 1\n",
        "    majority_class = max(class_count, key=class_count.get)\n",
        "    return majority_class, class_count[majority_class]\n",
        "\n",
        "def evaluate_baseline(majority_class, annotations):\n",
        "    \"\"\" Evaluate the baseline model based on the majority class. \"\"\"\n",
        "    y_true = list(annotations.values())\n",
        "    y_pred = [majority_class] * len(y_true)  # Predicting majority class for all instances\n",
        "\n",
        "    # Calculating precision, recall, and F1 score\n",
        "    precision = precision_score(y_true, y_pred, average='macro', labels=[majority_class])\n",
        "    recall = recall_score(y_true, y_pred, average='macro', labels=[majority_class])\n",
        "    f1 = f1_score(y_true, y_pred, average='macro', labels=[majority_class])\n",
        "\n",
        "    return precision, recall, f1\n",
        "\n",
        "if __name__ == \"__main__\":\n",
        "    # Define the paths to your annotation files\n",
        "    annotation_paths = [\n",
        "        '/content/drive/My Drive/dataset/annotation_dict.json',\n",
        "        '/content/drive/My Drive/dataset/augmented_annotation_dict.json'\n",
        "    ]\n",
        "\n",
        "    # Load and combine annotations from both files\n",
        "    annotations = load_annotations(annotation_paths)\n",
        "\n",
        "    # Find the majority class\n",
        "    majority_class, count = find_majority_class(annotations)\n",
        "    print(f\"The majority class is '{majority_class}' with {count} instances.\")\n",
        "\n",
        "    # Evaluate the baseline model\n",
        "    precision, recall, f1 = evaluate_baseline(majority_class, annotations)\n",
        "    print(f\"Baseline precision for the majority class is {precision:.2%}.\")\n",
        "    print(f\"Baseline recall for the majority class is {recall:.2%}.\")\n",
        "    print(f\"Baseline F1 score for the majority class is {f1:.2%}.\")\n"
      ],
      "metadata": {
        "colab": {
          "base_uri": "https://localhost:8080/"
        },
        "id": "w8OQbSX6dvMA",
        "outputId": "7079e156-86f2-4160-eeea-a1df3a27c895"
      },
      "execution_count": null,
      "outputs": [
        {
          "output_type": "stream",
          "name": "stdout",
          "text": [
            "The majority class is '9' with 11749 instances.\n",
            "Baseline precision for the majority class is 23.55%.\n",
            "Baseline recall for the majority class is 100.00%.\n",
            "Baseline F1 score for the majority class is 38.12%.\n"
          ]
        }
      ]
    },
    {
      "cell_type": "markdown",
      "metadata": {
        "id": "Af9lLk-My59M"
      },
      "source": [
        "R(2+1)D CNN Model"
      ]
    },
    {
      "cell_type": "code",
      "execution_count": null,
      "metadata": {
        "id": "F5YhNKGQJuN6"
      },
      "outputs": [],
      "source": [
        "import numpy as np\n",
        "from sklearn.metrics import f1_score, precision_score, recall_score\n",
        "\n",
        "def get_acc_f1_precision_recall(pred_classes, ground_truths, labels=[0, 1, 2, 3, 4, 5, 6, 7, 8, 9]):\n",
        "    \"\"\"\n",
        "    Given two linear arrays of predicted classes and ground truths, return accuracy, f1 score, precision and recall\n",
        "    :param pred_classes: classes predicted by model\n",
        "    :param ground_truths: ground truths for predictions\n",
        "    :return: tuple of accuracy, f1, precision, recall\n",
        "    \"\"\"\n",
        "\n",
        "    print(pred_classes)\n",
        "    print(ground_truths)\n",
        "\n",
        "    accuracy = np.mean((pred_classes == ground_truths)).astype(np.float64)\n",
        "    f1 = f1_score(ground_truths, pred_classes, labels=labels, average='micro')\n",
        "    precision = precision_score(ground_truths, pred_classes, labels=labels, average='micro')\n",
        "    recall = recall_score(ground_truths, pred_classes, labels=labels, average='micro')\n",
        "\n",
        "    return accuracy, f1, precision, recall"
      ]
    },
    {
      "cell_type": "code",
      "execution_count": null,
      "metadata": {
        "colab": {
          "base_uri": "https://localhost:8080/"
        },
        "id": "Z_3YmO4bzRyA",
        "outputId": "ec9f8a19-8968-4552-f35b-3379a0dc0421"
      },
      "outputs": [
        {
          "name": "stdout",
          "output_type": "stream",
          "text": [
            "Collecting vidaug\n",
            "  Downloading vidaug-1.5-py3-none-any.whl (13 kB)\n",
            "Installing collected packages: vidaug\n",
            "Successfully installed vidaug-1.5\n"
          ]
        }
      ],
      "source": [
        "pip install vidaug\n"
      ]
    },
    {
      "cell_type": "code",
      "execution_count": null,
      "metadata": {
        "colab": {
          "base_uri": "https://localhost:8080/",
          "height": 1000
        },
        "id": "Bxig6nCZBgLD",
        "outputId": "f79763f1-82ff-470e-8d06-e2377b4f366d"
      },
      "outputs": [
        {
          "metadata": {
            "tags": null
          },
          "name": "stdout",
          "output_type": "stream",
          "text": [
            "PyTorch Version:  2.2.1+cu121\n",
            "Torchvision Version:  0.17.1+cu121\n",
            "Current Device:  0\n",
            "Device:  <torch.cuda.device object at 0x7ff0ebd6a440>\n",
            "Cuda Is Available:  True\n",
            "Device Count:  1\n"
          ]
        },
        {
          "metadata": {
            "tags": null
          },
          "name": "stderr",
          "output_type": "stream",
          "text": [
            "/usr/local/lib/python3.10/dist-packages/torchvision/models/_utils.py:208: UserWarning: The parameter 'pretrained' is deprecated since 0.13 and may be removed in the future, please use 'weights' instead.\n",
            "  warnings.warn(\n",
            "/usr/local/lib/python3.10/dist-packages/torchvision/models/_utils.py:223: UserWarning: Arguments other than a weight enum or `None` for 'weights' are deprecated since 0.13 and may be removed in the future. The current behavior is equivalent to passing `weights=R2Plus1D_18_Weights.KINETICS400_V1`. You can also use `weights=R2Plus1D_18_Weights.DEFAULT` to get the most up-to-date weights.\n",
            "  warnings.warn(msg)\n",
            "Downloading: \"https://download.pytorch.org/models/r2plus1d_18-91a641e6.pth\" to /root/.cache/torch/hub/checkpoints/r2plus1d_18-91a641e6.pth\n",
            "100%|██████████| 120M/120M [00:07<00:00, 16.1MB/s]\n"
          ]
        },
        {
          "metadata": {
            "tags": null
          },
          "name": "stdout",
          "output_type": "stream",
          "text": [
            "VideoResNet(\n",
            "  (stem): R2Plus1dStem(\n",
            "    (0): Conv3d(3, 45, kernel_size=(1, 7, 7), stride=(1, 2, 2), padding=(0, 3, 3), bias=False)\n",
            "    (1): BatchNorm3d(45, eps=1e-05, momentum=0.1, affine=True, track_running_stats=True)\n",
            "    (2): ReLU(inplace=True)\n",
            "    (3): Conv3d(45, 64, kernel_size=(3, 1, 1), stride=(1, 1, 1), padding=(1, 0, 0), bias=False)\n",
            "    (4): BatchNorm3d(64, eps=1e-05, momentum=0.1, affine=True, track_running_stats=True)\n",
            "    (5): ReLU(inplace=True)\n",
            "  )\n",
            "  (layer1): Sequential(\n",
            "    (0): BasicBlock(\n",
            "      (conv1): Sequential(\n",
            "        (0): Conv2Plus1D(\n",
            "          (0): Conv3d(64, 144, kernel_size=(1, 3, 3), stride=(1, 1, 1), padding=(0, 1, 1), bias=False)\n",
            "          (1): BatchNorm3d(144, eps=1e-05, momentum=0.1, affine=True, track_running_stats=True)\n",
            "          (2): ReLU(inplace=True)\n",
            "          (3): Conv3d(144, 64, kernel_size=(3, 1, 1), stride=(1, 1, 1), padding=(1, 0, 0), bias=False)\n",
            "        )\n",
            "        (1): BatchNorm3d(64, eps=1e-05, momentum=0.1, affine=True, track_running_stats=True)\n",
            "        (2): ReLU(inplace=True)\n",
            "      )\n",
            "      (conv2): Sequential(\n",
            "        (0): Conv2Plus1D(\n",
            "          (0): Conv3d(64, 144, kernel_size=(1, 3, 3), stride=(1, 1, 1), padding=(0, 1, 1), bias=False)\n",
            "          (1): BatchNorm3d(144, eps=1e-05, momentum=0.1, affine=True, track_running_stats=True)\n",
            "          (2): ReLU(inplace=True)\n",
            "          (3): Conv3d(144, 64, kernel_size=(3, 1, 1), stride=(1, 1, 1), padding=(1, 0, 0), bias=False)\n",
            "        )\n",
            "        (1): BatchNorm3d(64, eps=1e-05, momentum=0.1, affine=True, track_running_stats=True)\n",
            "      )\n",
            "      (relu): ReLU(inplace=True)\n",
            "    )\n",
            "    (1): BasicBlock(\n",
            "      (conv1): Sequential(\n",
            "        (0): Conv2Plus1D(\n",
            "          (0): Conv3d(64, 144, kernel_size=(1, 3, 3), stride=(1, 1, 1), padding=(0, 1, 1), bias=False)\n",
            "          (1): BatchNorm3d(144, eps=1e-05, momentum=0.1, affine=True, track_running_stats=True)\n",
            "          (2): ReLU(inplace=True)\n",
            "          (3): Conv3d(144, 64, kernel_size=(3, 1, 1), stride=(1, 1, 1), padding=(1, 0, 0), bias=False)\n",
            "        )\n",
            "        (1): BatchNorm3d(64, eps=1e-05, momentum=0.1, affine=True, track_running_stats=True)\n",
            "        (2): ReLU(inplace=True)\n",
            "      )\n",
            "      (conv2): Sequential(\n",
            "        (0): Conv2Plus1D(\n",
            "          (0): Conv3d(64, 144, kernel_size=(1, 3, 3), stride=(1, 1, 1), padding=(0, 1, 1), bias=False)\n",
            "          (1): BatchNorm3d(144, eps=1e-05, momentum=0.1, affine=True, track_running_stats=True)\n",
            "          (2): ReLU(inplace=True)\n",
            "          (3): Conv3d(144, 64, kernel_size=(3, 1, 1), stride=(1, 1, 1), padding=(1, 0, 0), bias=False)\n",
            "        )\n",
            "        (1): BatchNorm3d(64, eps=1e-05, momentum=0.1, affine=True, track_running_stats=True)\n",
            "      )\n",
            "      (relu): ReLU(inplace=True)\n",
            "    )\n",
            "  )\n",
            "  (layer2): Sequential(\n",
            "    (0): BasicBlock(\n",
            "      (conv1): Sequential(\n",
            "        (0): Conv2Plus1D(\n",
            "          (0): Conv3d(64, 230, kernel_size=(1, 3, 3), stride=(1, 2, 2), padding=(0, 1, 1), bias=False)\n",
            "          (1): BatchNorm3d(230, eps=1e-05, momentum=0.1, affine=True, track_running_stats=True)\n",
            "          (2): ReLU(inplace=True)\n",
            "          (3): Conv3d(230, 128, kernel_size=(3, 1, 1), stride=(2, 1, 1), padding=(1, 0, 0), bias=False)\n",
            "        )\n",
            "        (1): BatchNorm3d(128, eps=1e-05, momentum=0.1, affine=True, track_running_stats=True)\n",
            "        (2): ReLU(inplace=True)\n",
            "      )\n",
            "      (conv2): Sequential(\n",
            "        (0): Conv2Plus1D(\n",
            "          (0): Conv3d(128, 230, kernel_size=(1, 3, 3), stride=(1, 1, 1), padding=(0, 1, 1), bias=False)\n",
            "          (1): BatchNorm3d(230, eps=1e-05, momentum=0.1, affine=True, track_running_stats=True)\n",
            "          (2): ReLU(inplace=True)\n",
            "          (3): Conv3d(230, 128, kernel_size=(3, 1, 1), stride=(1, 1, 1), padding=(1, 0, 0), bias=False)\n",
            "        )\n",
            "        (1): BatchNorm3d(128, eps=1e-05, momentum=0.1, affine=True, track_running_stats=True)\n",
            "      )\n",
            "      (relu): ReLU(inplace=True)\n",
            "      (downsample): Sequential(\n",
            "        (0): Conv3d(64, 128, kernel_size=(1, 1, 1), stride=(2, 2, 2), bias=False)\n",
            "        (1): BatchNorm3d(128, eps=1e-05, momentum=0.1, affine=True, track_running_stats=True)\n",
            "      )\n",
            "    )\n",
            "    (1): BasicBlock(\n",
            "      (conv1): Sequential(\n",
            "        (0): Conv2Plus1D(\n",
            "          (0): Conv3d(128, 288, kernel_size=(1, 3, 3), stride=(1, 1, 1), padding=(0, 1, 1), bias=False)\n",
            "          (1): BatchNorm3d(288, eps=1e-05, momentum=0.1, affine=True, track_running_stats=True)\n",
            "          (2): ReLU(inplace=True)\n",
            "          (3): Conv3d(288, 128, kernel_size=(3, 1, 1), stride=(1, 1, 1), padding=(1, 0, 0), bias=False)\n",
            "        )\n",
            "        (1): BatchNorm3d(128, eps=1e-05, momentum=0.1, affine=True, track_running_stats=True)\n",
            "        (2): ReLU(inplace=True)\n",
            "      )\n",
            "      (conv2): Sequential(\n",
            "        (0): Conv2Plus1D(\n",
            "          (0): Conv3d(128, 288, kernel_size=(1, 3, 3), stride=(1, 1, 1), padding=(0, 1, 1), bias=False)\n",
            "          (1): BatchNorm3d(288, eps=1e-05, momentum=0.1, affine=True, track_running_stats=True)\n",
            "          (2): ReLU(inplace=True)\n",
            "          (3): Conv3d(288, 128, kernel_size=(3, 1, 1), stride=(1, 1, 1), padding=(1, 0, 0), bias=False)\n",
            "        )\n",
            "        (1): BatchNorm3d(128, eps=1e-05, momentum=0.1, affine=True, track_running_stats=True)\n",
            "      )\n",
            "      (relu): ReLU(inplace=True)\n",
            "    )\n",
            "  )\n",
            "  (layer3): Sequential(\n",
            "    (0): BasicBlock(\n",
            "      (conv1): Sequential(\n",
            "        (0): Conv2Plus1D(\n",
            "          (0): Conv3d(128, 460, kernel_size=(1, 3, 3), stride=(1, 2, 2), padding=(0, 1, 1), bias=False)\n",
            "          (1): BatchNorm3d(460, eps=1e-05, momentum=0.1, affine=True, track_running_stats=True)\n",
            "          (2): ReLU(inplace=True)\n",
            "          (3): Conv3d(460, 256, kernel_size=(3, 1, 1), stride=(2, 1, 1), padding=(1, 0, 0), bias=False)\n",
            "        )\n",
            "        (1): BatchNorm3d(256, eps=1e-05, momentum=0.1, affine=True, track_running_stats=True)\n",
            "        (2): ReLU(inplace=True)\n",
            "      )\n",
            "      (conv2): Sequential(\n",
            "        (0): Conv2Plus1D(\n",
            "          (0): Conv3d(256, 460, kernel_size=(1, 3, 3), stride=(1, 1, 1), padding=(0, 1, 1), bias=False)\n",
            "          (1): BatchNorm3d(460, eps=1e-05, momentum=0.1, affine=True, track_running_stats=True)\n",
            "          (2): ReLU(inplace=True)\n",
            "          (3): Conv3d(460, 256, kernel_size=(3, 1, 1), stride=(1, 1, 1), padding=(1, 0, 0), bias=False)\n",
            "        )\n",
            "        (1): BatchNorm3d(256, eps=1e-05, momentum=0.1, affine=True, track_running_stats=True)\n",
            "      )\n",
            "      (relu): ReLU(inplace=True)\n",
            "      (downsample): Sequential(\n",
            "        (0): Conv3d(128, 256, kernel_size=(1, 1, 1), stride=(2, 2, 2), bias=False)\n",
            "        (1): BatchNorm3d(256, eps=1e-05, momentum=0.1, affine=True, track_running_stats=True)\n",
            "      )\n",
            "    )\n",
            "    (1): BasicBlock(\n",
            "      (conv1): Sequential(\n",
            "        (0): Conv2Plus1D(\n",
            "          (0): Conv3d(256, 576, kernel_size=(1, 3, 3), stride=(1, 1, 1), padding=(0, 1, 1), bias=False)\n",
            "          (1): BatchNorm3d(576, eps=1e-05, momentum=0.1, affine=True, track_running_stats=True)\n",
            "          (2): ReLU(inplace=True)\n",
            "          (3): Conv3d(576, 256, kernel_size=(3, 1, 1), stride=(1, 1, 1), padding=(1, 0, 0), bias=False)\n",
            "        )\n",
            "        (1): BatchNorm3d(256, eps=1e-05, momentum=0.1, affine=True, track_running_stats=True)\n",
            "        (2): ReLU(inplace=True)\n",
            "      )\n",
            "      (conv2): Sequential(\n",
            "        (0): Conv2Plus1D(\n",
            "          (0): Conv3d(256, 576, kernel_size=(1, 3, 3), stride=(1, 1, 1), padding=(0, 1, 1), bias=False)\n",
            "          (1): BatchNorm3d(576, eps=1e-05, momentum=0.1, affine=True, track_running_stats=True)\n",
            "          (2): ReLU(inplace=True)\n",
            "          (3): Conv3d(576, 256, kernel_size=(3, 1, 1), stride=(1, 1, 1), padding=(1, 0, 0), bias=False)\n",
            "        )\n",
            "        (1): BatchNorm3d(256, eps=1e-05, momentum=0.1, affine=True, track_running_stats=True)\n",
            "      )\n",
            "      (relu): ReLU(inplace=True)\n",
            "    )\n",
            "  )\n",
            "  (layer4): Sequential(\n",
            "    (0): BasicBlock(\n",
            "      (conv1): Sequential(\n",
            "        (0): Conv2Plus1D(\n",
            "          (0): Conv3d(256, 921, kernel_size=(1, 3, 3), stride=(1, 2, 2), padding=(0, 1, 1), bias=False)\n",
            "          (1): BatchNorm3d(921, eps=1e-05, momentum=0.1, affine=True, track_running_stats=True)\n",
            "          (2): ReLU(inplace=True)\n",
            "          (3): Conv3d(921, 512, kernel_size=(3, 1, 1), stride=(2, 1, 1), padding=(1, 0, 0), bias=False)\n",
            "        )\n",
            "        (1): BatchNorm3d(512, eps=1e-05, momentum=0.1, affine=True, track_running_stats=True)\n",
            "        (2): ReLU(inplace=True)\n",
            "      )\n",
            "      (conv2): Sequential(\n",
            "        (0): Conv2Plus1D(\n",
            "          (0): Conv3d(512, 921, kernel_size=(1, 3, 3), stride=(1, 1, 1), padding=(0, 1, 1), bias=False)\n",
            "          (1): BatchNorm3d(921, eps=1e-05, momentum=0.1, affine=True, track_running_stats=True)\n",
            "          (2): ReLU(inplace=True)\n",
            "          (3): Conv3d(921, 512, kernel_size=(3, 1, 1), stride=(1, 1, 1), padding=(1, 0, 0), bias=False)\n",
            "        )\n",
            "        (1): BatchNorm3d(512, eps=1e-05, momentum=0.1, affine=True, track_running_stats=True)\n",
            "      )\n",
            "      (relu): ReLU(inplace=True)\n",
            "      (downsample): Sequential(\n",
            "        (0): Conv3d(256, 512, kernel_size=(1, 1, 1), stride=(2, 2, 2), bias=False)\n",
            "        (1): BatchNorm3d(512, eps=1e-05, momentum=0.1, affine=True, track_running_stats=True)\n",
            "      )\n",
            "    )\n",
            "    (1): BasicBlock(\n",
            "      (conv1): Sequential(\n",
            "        (0): Conv2Plus1D(\n",
            "          (0): Conv3d(512, 1152, kernel_size=(1, 3, 3), stride=(1, 1, 1), padding=(0, 1, 1), bias=False)\n",
            "          (1): BatchNorm3d(1152, eps=1e-05, momentum=0.1, affine=True, track_running_stats=True)\n",
            "          (2): ReLU(inplace=True)\n",
            "          (3): Conv3d(1152, 512, kernel_size=(3, 1, 1), stride=(1, 1, 1), padding=(1, 0, 0), bias=False)\n",
            "        )\n",
            "        (1): BatchNorm3d(512, eps=1e-05, momentum=0.1, affine=True, track_running_stats=True)\n",
            "        (2): ReLU(inplace=True)\n",
            "      )\n",
            "      (conv2): Sequential(\n",
            "        (0): Conv2Plus1D(\n",
            "          (0): Conv3d(512, 1152, kernel_size=(1, 3, 3), stride=(1, 1, 1), padding=(0, 1, 1), bias=False)\n",
            "          (1): BatchNorm3d(1152, eps=1e-05, momentum=0.1, affine=True, track_running_stats=True)\n",
            "          (2): ReLU(inplace=True)\n",
            "          (3): Conv3d(1152, 512, kernel_size=(3, 1, 1), stride=(1, 1, 1), padding=(1, 0, 0), bias=False)\n",
            "        )\n",
            "        (1): BatchNorm3d(512, eps=1e-05, momentum=0.1, affine=True, track_running_stats=True)\n",
            "      )\n",
            "      (relu): ReLU(inplace=True)\n",
            "    )\n",
            "  )\n",
            "  (avgpool): AdaptiveAvgPool3d(output_size=(1, 1, 1))\n",
            "  (fc): Linear(in_features=512, out_features=10, bias=True)\n",
            ")\n",
            "Params to learn:\n",
            "\t layer3.0.conv1.0.0.weight\n",
            "\t layer3.0.conv1.0.1.weight\n",
            "\t layer3.0.conv1.0.1.bias\n",
            "\t layer3.0.conv1.0.3.weight\n",
            "\t layer3.0.conv1.1.weight\n",
            "\t layer3.0.conv1.1.bias\n",
            "\t layer3.0.conv2.0.0.weight\n",
            "\t layer3.0.conv2.0.1.weight\n",
            "\t layer3.0.conv2.0.1.bias\n",
            "\t layer3.0.conv2.0.3.weight\n",
            "\t layer3.0.conv2.1.weight\n",
            "\t layer3.0.conv2.1.bias\n",
            "\t layer3.0.downsample.0.weight\n",
            "\t layer3.0.downsample.1.weight\n",
            "\t layer3.0.downsample.1.bias\n",
            "\t layer3.1.conv1.0.0.weight\n",
            "\t layer3.1.conv1.0.1.weight\n",
            "\t layer3.1.conv1.0.1.bias\n",
            "\t layer3.1.conv1.0.3.weight\n",
            "\t layer3.1.conv1.1.weight\n",
            "\t layer3.1.conv1.1.bias\n",
            "\t layer3.1.conv2.0.0.weight\n",
            "\t layer3.1.conv2.0.1.weight\n",
            "\t layer3.1.conv2.0.1.bias\n",
            "\t layer3.1.conv2.0.3.weight\n",
            "\t layer3.1.conv2.1.weight\n",
            "\t layer3.1.conv2.1.bias\n",
            "\t layer4.0.conv1.0.0.weight\n",
            "\t layer4.0.conv1.0.1.weight\n",
            "\t layer4.0.conv1.0.1.bias\n",
            "\t layer4.0.conv1.0.3.weight\n",
            "\t layer4.0.conv1.1.weight\n",
            "\t layer4.0.conv1.1.bias\n",
            "\t layer4.0.conv2.0.0.weight\n",
            "\t layer4.0.conv2.0.1.weight\n",
            "\t layer4.0.conv2.0.1.bias\n",
            "\t layer4.0.conv2.0.3.weight\n",
            "\t layer4.0.conv2.1.weight\n",
            "\t layer4.0.conv2.1.bias\n",
            "\t layer4.0.downsample.0.weight\n",
            "\t layer4.0.downsample.1.weight\n",
            "\t layer4.0.downsample.1.bias\n",
            "\t layer4.1.conv1.0.0.weight\n",
            "\t layer4.1.conv1.0.1.weight\n",
            "\t layer4.1.conv1.0.1.bias\n",
            "\t layer4.1.conv1.0.3.weight\n",
            "\t layer4.1.conv1.1.weight\n",
            "\t layer4.1.conv1.1.bias\n",
            "\t layer4.1.conv2.0.0.weight\n",
            "\t layer4.1.conv2.0.1.weight\n",
            "\t layer4.1.conv2.0.1.bias\n",
            "\t layer4.1.conv2.0.3.weight\n",
            "\t layer4.1.conv2.1.weight\n",
            "\t layer4.1.conv2.1.bias\n",
            "\t fc.weight\n",
            "\t fc.bias\n",
            "Tesla T4\n",
            "Memory Usage:\n",
            "Allocated: 0.0 GB\n",
            "Cached:    0.0 GB\n",
            " \n"
          ]
        },
        {
          "metadata": {
            "tags": null
          },
          "name": "stderr",
          "output_type": "stream",
          "text": [
            "Phase: train || Epoch: 1 || Loss 18.68013 : 100%|██████████| 1398/1398 [7:20:46<00:00, 18.92s/it]\n"
          ]
        },
        {
          "metadata": {
            "tags": null
          },
          "name": "stdout",
          "output_type": "stream",
          "text": [
            "train  training complete in 440m 46s\n",
            "train Loss: 0.7477 Acc: 0.7369\n",
            "[2 3 3 ... 2 9 5]\n",
            "[2 2 8 ... 3 9 5]\n",
            "Epoch: 1 || Train_Acc: 0.7368662143204787 || Train_Loss: 0.747654546820014\n",
            "train: \n",
            "[[2804  214   39   12  104   23   50  140   21   88]\n",
            " [ 226 2826   60  125   94  122   19  132   26   94]\n",
            " [  18   13 3247   97    3   20   78   10    5  660]\n",
            " [   4   46  231 1924    4  102   34    4   10   94]\n",
            " [ 260  179   13   15  914   35    0   36    9   21]\n",
            " [  45   76   99  136   21  943   65    8   98  128]\n",
            " [  43    8  139   44    0   36 1510   24  323  564]\n",
            " [ 143  177   16   15    8    6   42 1903   67  152]\n",
            " [  21   19   11   20    4   45  208   24 3166 1039]\n",
            " [  45   26  525   55    4   33  277   44  718 6501]]\n"
          ]
        },
        {
          "metadata": {
            "tags": null
          },
          "name": "stderr",
          "output_type": "stream",
          "text": [
            "Phase: val || Epoch: 1 || Loss 12.21724 : 100%|██████████| 400/400 [2:04:15<00:00, 18.64s/it]\n"
          ]
        },
        {
          "metadata": {
            "tags": null
          },
          "name": "stdout",
          "output_type": "stream",
          "text": [
            "val  training complete in 565m 2s\n",
            "val Loss: 0.4897 Acc: 0.8253\n",
            "[2 3 1 ... 1 1 4]\n",
            "[2 5 1 ... 1 1 4]\n",
            "Epoch: 1 || Val_Acc: 0.825250501002004 || Val_Loss: 0.48966900934885166\n",
            "val: \n",
            "[[ 835   41    1    0   25    3   12   19    8   30]\n",
            " [  19  993    1   33    2   27   13   10    2   19]\n",
            " [   0    1  877    7    0    0   20    0    0  271]\n",
            " [   0    1   25  638    0    8    6    0    1   11]\n",
            " [  17   20    0    1  380    1    0    3    0    1]\n",
            " [   8   20   18   45    7  319   14    1   12   27]\n",
            " [   3    0    9    8    0    6  562    1   69  122]\n",
            " [   8   10    0    1    2    0   19  612   15   28]\n",
            " [   0    2    0    1    1   16   69    4 1031  191]\n",
            " [   4    4   35    7    0    2  106    4  186 1989]]\n"
          ]
        },
        {
          "metadata": {
            "tags": null
          },
          "name": "stderr",
          "output_type": "stream",
          "text": [
            "Phase: train || Epoch: 2 || Loss 9.28688 : 100%|██████████| 1398/1398 [56:08<00:00,  2.41s/it]\n"
          ]
        },
        {
          "metadata": {
            "tags": null
          },
          "name": "stdout",
          "output_type": "stream",
          "text": [
            "train  training complete in 621m 11s\n",
            "train Loss: 0.3717 Acc: 0.8683\n",
            "[2 7 1 ... 8 9 7]\n",
            "[2 7 1 ... 9 9 7]\n",
            "Epoch: 2 || Train_Acc: 0.868275644879613 || Train_Loss: 0.3716984088573288\n",
            "train: \n",
            "[[3315   38    5    2   39   10   21   25    5   35]\n",
            " [  34 3465   21   57   20   58    9   23    7   30]\n",
            " [   6   16 3610   39    0   11   57    3    2  407]\n",
            " [   4   34   70 2236    1   57   13    3    5   30]\n",
            " [  59   29    0    2 1372    9    0    3    1    7]\n",
            " [  17   57   30   72    7 1344   15    5   30   42]\n",
            " [  26    4   51   13    0   14 2008   17  204  354]\n",
            " [  19   20    8    1    3    4   17 2366   37   54]\n",
            " [  12   10    3    6    2   24  162   22 3595  721]\n",
            " [  25   17  338   20    5   32  203   28  543 7017]]\n"
          ]
        },
        {
          "metadata": {
            "tags": null
          },
          "name": "stderr",
          "output_type": "stream",
          "text": [
            "Phase: val || Epoch: 2 || Loss 10.76544 : 100%|██████████| 400/400 [12:44<00:00,  1.91s/it]\n"
          ]
        },
        {
          "metadata": {
            "tags": null
          },
          "name": "stdout",
          "output_type": "stream",
          "text": [
            "val  training complete in 633m 56s\n",
            "val Loss: 0.4315 Acc: 0.8444\n",
            "[2 5 1 ... 1 1 4]\n",
            "[2 5 1 ... 1 1 4]\n",
            "Epoch: 2 || Val_Acc: 0.8443887775551102 || Val_Loss: 0.43148048080593526\n",
            "val: \n",
            "[[ 913    8    6    0    5    8   22    3    3    6]\n",
            " [  12 1035    2   19    1   33    3    2    4    8]\n",
            " [   0    2 1003   14    1    7   35    2    2  110]\n",
            " [   0    5   13  635    0   22    9    0    0    6]\n",
            " [  19    6    0    0  391    2    1    0    0    4]\n",
            " [   1   27    7   22    4  378   11    1    9   11]\n",
            " [   4    0    7    8    0    9  610    1   55   86]\n",
            " [   5   15    2    0    1    5    9  643    5   10]\n",
            " [   0    2    0    1    1   19   83   11  989  209]\n",
            " [   3    5  111   11    0   23  143   14  197 1830]]\n"
          ]
        },
        {
          "metadata": {
            "tags": null
          },
          "name": "stderr",
          "output_type": "stream",
          "text": [
            "Phase: train || Epoch: 3 || Loss 5.50362 : 100%|██████████| 1398/1398 [55:57<00:00,  2.40s/it]\n"
          ]
        },
        {
          "metadata": {
            "tags": null
          },
          "name": "stdout",
          "output_type": "stream",
          "text": [
            "train  training complete in 689m 54s\n",
            "train Loss: 0.2203 Acc: 0.9214\n",
            "[4 6 0 ... 6 8 2]\n",
            "[4 6 4 ... 6 8 2]\n",
            "Epoch: 3 || Train_Acc: 0.9213547482034985 || Train_Loss: 0.2202772653191781\n",
            "train: \n",
            "[[3415   17    3    0   18    2   13    8    7   12]\n",
            " [  10 3620   10   16    8   25    3    7    6   19]\n",
            " [   3    6 3822   17    1   10   26    1    0  265]\n",
            " [   0   11   29 2354    0   34   11    1    0   13]\n",
            " [  21   12    0    2 1436    4    0    3    2    2]\n",
            " [   7   28   15   38    7 1478    9    4   14   19]\n",
            " [  16    2   17    8    0    6 2293    6  131  212]\n",
            " [   9    8    4    1    1    4    5 2468   14   15]\n",
            " [   4    9    2    5    3   10  116    9 3911  488]\n",
            " [  14    8  221   14    0   15  161   14  396 7385]]\n"
          ]
        },
        {
          "metadata": {
            "tags": null
          },
          "name": "stderr",
          "output_type": "stream",
          "text": [
            "Phase: val || Epoch: 3 || Loss 10.66990 : 100%|██████████| 400/400 [12:50<00:00,  1.93s/it]\n"
          ]
        },
        {
          "metadata": {
            "tags": null
          },
          "name": "stdout",
          "output_type": "stream",
          "text": [
            "val  training complete in 702m 44s\n",
            "val Loss: 0.4277 Acc: 0.8503\n",
            "[2 5 1 ... 1 1 4]\n",
            "[2 5 1 ... 1 1 4]\n",
            "Epoch: 3 || Val_Acc: 0.8503006012024048 || Val_Loss: 0.4276513604256875\n",
            "val: \n",
            "[[ 916   16    5    0    5    2   10    2    6   12]\n",
            " [   5 1068    5    8    0   21    1    2    3    6]\n",
            " [   0    0  979   11    0    0   22    0    2  162]\n",
            " [   0    8   12  634    0   25    4    0    0    7]\n",
            " [   9    8    0    0  400    3    0    1    0    2]\n",
            " [   3   20   15   23    3  381   11    0    3   12]\n",
            " [   4    3   18    9    0    9  592    0   64   81]\n",
            " [  17   17    1    1    1    2   14  622   10   10]\n",
            " [   0    2    0    2    1    6   87    5  993  219]\n",
            " [   5    5   63    8    0   14  150   16  175 1901]]\n"
          ]
        },
        {
          "metadata": {
            "tags": null
          },
          "name": "stderr",
          "output_type": "stream",
          "text": [
            "Phase: train || Epoch: 4 || Loss 3.24485 : 100%|██████████| 1398/1398 [56:46<00:00,  2.44s/it]\n"
          ]
        },
        {
          "metadata": {
            "tags": null
          },
          "name": "stdout",
          "output_type": "stream",
          "text": [
            "train  training complete in 759m 31s\n",
            "train Loss: 0.1299 Acc: 0.9551\n",
            "[7 9 1 ... 0 3 2]\n",
            "[7 9 1 ... 2 3 2]\n",
            "Epoch: 4 || Train_Acc: 0.9550803057631194 || Train_Loss: 0.12987190169493723\n",
            "train: \n",
            "[[3450   10    0    0    7    2    5    7    4   10]\n",
            " [   6 3658    1   16    7   13    1   10    3    9]\n",
            " [   1    2 3996    8    0    2    4    0    0  138]\n",
            " [   0    4   20 2398    1   13    5    0    0   12]\n",
            " [  11    7    0    1 1457    5    0    1    0    0]\n",
            " [   6   15    4   22    6 1545    3    0    7   11]\n",
            " [   6    0   13    7    0    1 2472    0   72  120]\n",
            " [   7    7    2    1    0    1    3 2481   11   16]\n",
            " [   2    3    2    1    0    6   85    6 4167  285]\n",
            " [   9    4  128   12    1    9   90    5  234 7736]]\n"
          ]
        },
        {
          "metadata": {
            "tags": null
          },
          "name": "stderr",
          "output_type": "stream",
          "text": [
            "Phase: val || Epoch: 4 || Loss 11.21854 : 100%|██████████| 400/400 [12:48<00:00,  1.92s/it]\n"
          ]
        },
        {
          "metadata": {
            "tags": null
          },
          "name": "stdout",
          "output_type": "stream",
          "text": [
            "val  training complete in 772m 20s\n",
            "val Loss: 0.4496 Acc: 0.8588\n",
            "[2 5 1 ... 1 1 4]\n",
            "[2 5 1 ... 1 1 4]\n",
            "Epoch: 4 || Val_Acc: 0.8588176352705411 || Val_Loss: 0.4496410732313371\n",
            "val: \n",
            "[[ 930   11    5    0    6    4    6    7    1    4]\n",
            " [   6 1083    6    3    1    9    1    5    0    5]\n",
            " [   0    3 1061    3    1    2    6    2    2   96]\n",
            " [   0   13   25  619    1   12    4    0    1   15]\n",
            " [   5    5    0    0  409    0    0    1    0    3]\n",
            " [   2   30   14   23    3  363    6    2   11   17]\n",
            " [   4    3   32    9    0    4  518    8   73  129]\n",
            " [   3    3    2    0    0    1    0  664    8   14]\n",
            " [   0    4    2    1    1    4   50    9  983  261]\n",
            " [   7    9  174    3    0    3   50    8  142 1941]]\n"
          ]
        },
        {
          "output_type": "stream",
          "name": "stderr",
          "text": [
            "Phase: train || Epoch: 5 || Loss 2.34835 : 100%|██████████| 1398/1398 [56:56<00:00,  2.44s/it]\n"
          ]
        },
        {
          "output_type": "stream",
          "name": "stdout",
          "text": [
            "train  training complete in 829m 17s\n",
            "train Loss: 0.0940 Acc: 0.9690\n",
            "[1 7 7 ... 1 8 0]\n",
            "[1 7 7 ... 1 5 0]\n",
            "Epoch: 5 || Train_Acc: 0.9689942454693807 || Train_Loss: 0.09399034490707471\n",
            "train: \n",
            "[[3441   12    4    0    8    3    8   10    2    7]\n",
            " [  10 3667    2    6    7   13    4    3    5    7]\n",
            " [   3    3 4032   10    0    6    6    0    0   91]\n",
            " [   1    6    9 2409    1   11    4    1    2    9]\n",
            " [  10   13    1    1 1449    5    0    1    0    2]\n",
            " [   3   16    8   12    6 1555    4    1    4   10]\n",
            " [   9    0    8    6    0    2 2554    0   40   72]\n",
            " [   9    4    2    2    0    0    3 2497    5    7]\n",
            " [   2    1    1    1    1    4   35    3 4338  171]\n",
            " [   6    8   85    5    2    5   61    6  146 7904]]\n"
          ]
        },
        {
          "output_type": "stream",
          "name": "stderr",
          "text": [
            "Phase: val || Epoch: 5 || Loss 12.38852 : 100%|██████████| 400/400 [12:46<00:00,  1.92s/it]\n"
          ]
        },
        {
          "output_type": "stream",
          "name": "stdout",
          "text": [
            "val  training complete in 842m 4s\n",
            "val Loss: 0.4965 Acc: 0.8573\n",
            "[2 3 1 ... 1 1 4]\n",
            "[2 5 1 ... 1 1 4]\n",
            "Epoch: 5 || Val_Acc: 0.857314629258517 || Val_Loss: 0.4965339124226991\n",
            "val: \n",
            "[[ 934    6    4    0    2    0    8    6    1   13]\n",
            " [  12 1041    3   18    1   19    3    4    8   10]\n",
            " [   0    1 1003   16    0    0   22    2    1  131]\n",
            " [   0    6   12  649    0    9    9    0    0    5]\n",
            " [   9    3    0    0  409    0    0    0    0    2]\n",
            " [   7   14   18   43    7  350    9    2    8   13]\n",
            " [   4    4   12    9    0    5  582    2   54  108]\n",
            " [   4    5    1    0    0    1    2  669    1   12]\n",
            " [   0    0    0    0    1    8   92    3 1000  211]\n",
            " [   3    4   90   11    0    4  115    5  186 1919]]\n",
            "Training complete in 842m 5s\n",
            "Best val Acc: 0.858818\n"
          ]
        },
        {
          "output_type": "display_data",
          "data": {
            "text/plain": [
              "<Figure size 1000x500 with 1 Axes>"
            ],
            "image/png": "[encoded data removed]"
          },
          "metadata": {}
        },
        {
          "output_type": "stream",
          "name": "stdout",
          "text": [
            "Best Validation Loss:  0.4276513604256875 Epoch:  2\n",
            "Best Training Loss:  0.09399034490707471 Epoch:  4\n",
            "Hyperparameters:\n",
            "arguments: {'base_model_name': 'r2plus1d_multiclass', 'pretrained': True, 'lr': 0.0001, 'start_epoch': 1, 'num_epochs': 6, 'layers_list': ['layer3', 'layer4', 'fc'], 'continue_epoch': False, 'num_classes': 10, 'batch_size': 25, 'n_total': 49899, 'test_n': 4990, 'val_n': 9980, 'annotation_path': '/content/drive/My Drive/dataset/annotation_dict.json', 'augmented_annotation_path': '/content/drive/My Drive/dataset/augmented_annotation_dict.json', 'model_path': '/content/drive/My Drive/dataset/model-checkpoints/', 'history_path': '/content/drive/My Drive/dataset/histories/history3.txt'}\n",
            "\n",
            "arguments: {'base_model_name': 'r2plus1d_multiclass', 'pretrained': True, 'lr': 0.0001, 'start_epoch': 1, 'num_epochs': 6, 'layers_list': ['layer3', 'layer4', 'fc'], 'continue_epoch': False, 'num_classes': 10, 'batch_size': 25, 'n_total': 49899, 'test_n': 4990, 'val_n': 9980, 'annotation_path': '/content/drive/My Drive/dataset/annotation_dict.json', 'augmented_annotation_path': '/content/drive/My Drive/dataset/augmented_annotation_dict.json', 'model_path': '/content/drive/My Drive/dataset/model-checkpoints/', 'history_path': '/content/drive/My Drive/dataset/histories/history3.txt'}\n",
            "\n"
          ]
        },
        {
          "output_type": "error",
          "ename": "ValueError",
          "evalue": "invalid literal for int() with base 10: \"path': '/content/drive/My Drive/dataset/model-checkpoints/', 'history\"",
          "traceback": [
            "\u001b[0;31m---------------------------------------------------------------------------\u001b[0m",
            "\u001b[0;31mValueError\u001b[0m                                Traceback (most recent call last)",
            "\u001b[0;32m<ipython-input-8-63dae1cf2539>\u001b[0m in \u001b[0;36m<cell line: 244>\u001b[0;34m()\u001b[0m\n\u001b[1;32m    356\u001b[0m \u001b[0;34m\u001b[0m\u001b[0m\n\u001b[1;32m    357\u001b[0m     \u001b[0;31m# Read History\u001b[0m\u001b[0;34m\u001b[0m\u001b[0;34m\u001b[0m\u001b[0m\n\u001b[0;32m--> 358\u001b[0;31m     \u001b[0mread_history\u001b[0m\u001b[0;34m(\u001b[0m\u001b[0margs\u001b[0m\u001b[0;34m.\u001b[0m\u001b[0mhistory_path\u001b[0m\u001b[0;34m)\u001b[0m\u001b[0;34m\u001b[0m\u001b[0;34m\u001b[0m\u001b[0m\n\u001b[0m\u001b[1;32m    359\u001b[0m \u001b[0;34m\u001b[0m\u001b[0m\n\u001b[1;32m    360\u001b[0m     \u001b[0;31m# Check Accuracy with Test Set\u001b[0m\u001b[0;34m\u001b[0m\u001b[0;34m\u001b[0m\u001b[0m\n",
            "\u001b[0;32m/content/drive/My Drive/dataset/utils/checkpoints.py\u001b[0m in \u001b[0;36mread_history\u001b[0;34m(history_path)\u001b[0m\n\u001b[1;32m    224\u001b[0m                 \u001b[0;32mif\u001b[0m \u001b[0;34m'checkpoint'\u001b[0m \u001b[0;32min\u001b[0m \u001b[0mline\u001b[0m\u001b[0;34m:\u001b[0m\u001b[0;34m\u001b[0m\u001b[0;34m\u001b[0m\u001b[0m\n\u001b[1;32m    225\u001b[0m                     \u001b[0mprint\u001b[0m\u001b[0;34m(\u001b[0m\u001b[0mline\u001b[0m\u001b[0;34m)\u001b[0m\u001b[0;34m\u001b[0m\u001b[0;34m\u001b[0m\u001b[0m\n\u001b[0;32m--> 226\u001b[0;31m                     \u001b[0mplot_epoch\u001b[0m\u001b[0;34m.\u001b[0m\u001b[0mappend\u001b[0m\u001b[0;34m(\u001b[0m\u001b[0mint\u001b[0m\u001b[0;34m(\u001b[0m\u001b[0mline\u001b[0m\u001b[0;34m.\u001b[0m\u001b[0msplit\u001b[0m\u001b[0;34m(\u001b[0m\u001b[0;34m'_'\u001b[0m\u001b[0;34m)\u001b[0m\u001b[0;34m[\u001b[0m\u001b[0;34m-\u001b[0m\u001b[0;36m2\u001b[0m\u001b[0;34m]\u001b[0m\u001b[0;34m)\u001b[0m\u001b[0;34m)\u001b[0m\u001b[0;34m\u001b[0m\u001b[0;34m\u001b[0m\u001b[0m\n\u001b[0m\u001b[1;32m    227\u001b[0m \u001b[0;34m\u001b[0m\u001b[0m\n\u001b[1;32m    228\u001b[0m                 \u001b[0;31m# case for getting train data for epoch\u001b[0m\u001b[0;34m\u001b[0m\u001b[0;34m\u001b[0m\u001b[0m\n",
            "\u001b[0;31mValueError\u001b[0m: invalid literal for int() with base 10: \"path': '/content/drive/My Drive/dataset/model-checkpoints/', 'history\""
          ]
        }
      ],
      "source": [
        "from __future__ import print_function\n",
        "from __future__ import division\n",
        "\n",
        "import numpy as np\n",
        "import copy\n",
        "import time\n",
        "from tqdm import tqdm\n",
        "from easydict import EasyDict\n",
        "from vidaug import augmentors as vidaug\n",
        "from sklearn.metrics import confusion_matrix\n",
        "\n",
        "import torch\n",
        "from torch.nn import Dropout\n",
        "import torch.nn as nn\n",
        "import torch.optim as optim\n",
        "import torchvision\n",
        "from torchvision import models\n",
        "from torch.utils.data import DataLoader, random_split\n",
        "import matplotlib.pyplot as plt\n",
        "import os\n",
        "import sys\n",
        "\n",
        "# 确保替换为您的utils文件夹所在的父目录的完整路径\n",
        "sys.path.append('/content/drive/My Drive/dataset')\n",
        "\n",
        "# 现在尝试导入模块\n",
        "from utils.checkpoints import init_session_history, save_weights, load_weights, write_history, read_history, plot_curves\n",
        "\n",
        "# 将CUDA设备设置为默认设备（如果可用）\n",
        "device = torch.device(\"cuda\" if torch.cuda.is_available() else \"cpu\")\n",
        "\n",
        "args = EasyDict({\n",
        "    'base_model_name': 'r2plus1d_multiclass',\n",
        "    'pretrained': True,\n",
        "\n",
        "    # training/model params\n",
        "    'lr': 0.0001,\n",
        "    'start_epoch': 1,\n",
        "    'num_epochs': 6,\n",
        "    'layers_list': ['layer3', 'layer4', 'fc'],\n",
        "    'continue_epoch': False,\n",
        "    'device': 'cuda' if torch.cuda.is_available() else 'cpu'\n",
        "    # Dataset params\n",
        "    'num_classes': 10,\n",
        "    'batch_size': 25,\n",
        "    'n_total': 49899,\n",
        "    'test_n': 4990,\n",
        "    'val_n': 9980,\n",
        "\n",
        "    # Path params\n",
        "    'annotation_path': base_dir+\"annotation_dict.json\",\n",
        "    'augmented_annotation_path':base_dir+\"augmented_annotation_dict.json\",\n",
        "    'model_path': base_dir+\"model-checkpoints/\",\n",
        "    'history_path': base_dir+\"histories/history3.txt\"\n",
        "})\n",
        "\n",
        "def train_model(model, dataloaders, criterion, optimizer, args, start_epoch=1, num_epochs=25):\n",
        "    \"\"\"\n",
        "    Trains the 3D CNN Model\n",
        "    :param model: Model object that we will train\n",
        "    :param base_model_name: The base name of the model\n",
        "    :param dataloaders: A dictionary of train and validation dataloader\n",
        "    :param criterion: Pytorch Criterion Instance\n",
        "    :param optimizer: Pytorch Optimizer Instance\n",
        "    :param num_epochs: Number of epochs during training\n",
        "    :return: model, train_loss_history, val_loss_history, train_acc_history, val_acc_history, train_f1_score, val_f1_score, plot_epoch\n",
        "    \"\"\"\n",
        "\n",
        "    # Initializes Session History in the history file\n",
        "    init_session_history(args)\n",
        "    since = time.time()\n",
        "\n",
        "    train_acc_history = []\n",
        "    val_acc_history = []\n",
        "    train_loss_history = []\n",
        "    val_loss_history = []\n",
        "    train_f1_score = []\n",
        "    val_f1_score = []\n",
        "    plot_epoch = []\n",
        "\n",
        "    best_model_wts = copy.deepcopy(model.state_dict())\n",
        "    best_acc = 0.0\n",
        "\n",
        "    for epoch in range(start_epoch, num_epochs):\n",
        "\n",
        "        # Each epoch has a training and validation phase\n",
        "        for phase in ['train', 'val']:\n",
        "            if phase == 'train':\n",
        "                model.train()  # Set model to training mode\n",
        "                train_pred_classes = []\n",
        "                train_ground_truths = []\n",
        "            else:\n",
        "                model.eval()  # Set model to evaluate mode\n",
        "                val_pred_classes = []\n",
        "                val_ground_truths = []\n",
        "\n",
        "            running_loss = 0.0\n",
        "            running_corrects = 0\n",
        "            train_n_total = 1\n",
        "\n",
        "            pbar = tqdm(dataloaders[phase])\n",
        "            # Iterate over data.\n",
        "            for sample in pbar:\n",
        "                inputs = sample[\"video\"].to(device)\n",
        "                labels = sample[\"action\"].to(device)\n",
        "\n",
        "                # zero the parameter gradients\n",
        "                optimizer.zero_grad()\n",
        "\n",
        "                # forward\n",
        "                # track history if only in train\n",
        "                with torch.set_grad_enabled(phase == 'train'):\n",
        "                    outputs = model(inputs)\n",
        "                    loss = criterion(outputs, torch.max(labels, 1)[1])\n",
        "\n",
        "                    _, preds = torch.max(outputs, 1)\n",
        "\n",
        "                    if phase == 'train':\n",
        "                        train_pred_classes.extend(preds.detach().cpu().numpy())\n",
        "                        train_ground_truths.extend(torch.max(labels, 1)[1].detach().cpu().numpy())\n",
        "                    else:\n",
        "                        val_pred_classes.extend(preds.detach().cpu().numpy())\n",
        "                        val_ground_truths.extend(torch.max(labels, 1)[1].detach().cpu().numpy())\n",
        "\n",
        "                    # backward + optimize only if in training phase\n",
        "                    if phase == 'train':\n",
        "                        loss.backward()\n",
        "                        optimizer.step()\n",
        "\n",
        "                # statistics\n",
        "                running_loss += loss.item() * inputs.size(0)\n",
        "                running_corrects += torch.sum(preds == torch.max(labels, 1)[1])\n",
        "\n",
        "                pbar.set_description('Phase: {} || Epoch: {} || Loss {:.5f} '.format(phase, epoch, running_loss / train_n_total))\n",
        "                train_n_total += 1\n",
        "\n",
        "            epoch_loss = running_loss / len(dataloaders[phase].dataset)\n",
        "            epoch_acc = running_corrects.double() / len(dataloaders[phase].dataset)\n",
        "\n",
        "            # Calculate elapsed time\n",
        "            time_elapsed = time.time() - since\n",
        "            print(phase, ' training complete in {:.0f}m {:.0f}s'.format(time_elapsed // 60, time_elapsed % 60))\n",
        "            print('{} Loss: {:.4f} Acc: {:.4f}'.format(phase, epoch_loss, epoch_acc))\n",
        "\n",
        "            # For Checkpointing and Confusion Matrix\n",
        "            if phase == 'val':\n",
        "                val_acc_history.append(epoch_acc)\n",
        "                val_loss_history.append(epoch_loss)\n",
        "                val_pred_classes = np.asarray(val_pred_classes)\n",
        "                val_ground_truths = np.asarray(val_ground_truths)\n",
        "                val_accuracy, val_f1, val_precision, val_recall = get_acc_f1_precision_recall(\n",
        "                    val_pred_classes, val_ground_truths\n",
        "                )\n",
        "                val_f1_score.append(val_f1)\n",
        "                val_confusion_matrix = np.array_str(confusion_matrix(val_ground_truths, val_pred_classes, labels=[0, 1, 2, 3, 4, 5, 6, 7, 8, 9]))\n",
        "                print('Epoch: {} || Val_Acc: {} || Val_Loss: {}'.format(\n",
        "                    epoch, val_accuracy, epoch_loss\n",
        "                ))\n",
        "                print(f'val: \\n{val_confusion_matrix}')\n",
        "\n",
        "                # Deep Copy Model if best accuracy\n",
        "                if epoch_acc > best_acc:\n",
        "                    best_acc = epoch_acc\n",
        "                    best_model_wts = copy.deepcopy(model.state_dict())\n",
        "\n",
        "                # set current loss to val loss for write history\n",
        "                val_loss = epoch_loss\n",
        "\n",
        "            if phase == 'train':\n",
        "                train_acc_history.append(epoch_acc)\n",
        "                train_loss_history.append(epoch_loss)\n",
        "                train_pred_classes = np.asarray(train_pred_classes)\n",
        "                train_ground_truths = np.asarray(train_ground_truths)\n",
        "                train_accuracy, train_f1, train_precision, train_recall = get_acc_f1_precision_recall(\n",
        "                    train_pred_classes, train_ground_truths\n",
        "                )\n",
        "                train_f1_score.append(train_f1)\n",
        "                train_confusion_matrix = np.array_str(confusion_matrix(train_ground_truths, train_pred_classes, labels=[0, 1, 2, 3, 4, 5, 6, 7, 8, 9]))\n",
        "                print('Epoch: {} || Train_Acc: {} || Train_Loss: {}'.format(\n",
        "                    epoch, train_accuracy, epoch_loss\n",
        "                ))\n",
        "                print(f'train: \\n{train_confusion_matrix}')\n",
        "                plot_epoch.append(epoch)\n",
        "\n",
        "                # set current loss to train loss for write history\n",
        "                train_loss = epoch_loss\n",
        "\n",
        "        # Save Weights\n",
        "        model_name = save_weights(model, args, epoch, optimizer)\n",
        "\n",
        "        # Write History after train and validation phase\n",
        "        write_history(\n",
        "            args.history_path,\n",
        "            model_name,\n",
        "            train_loss,\n",
        "            val_loss,\n",
        "            train_accuracy,\n",
        "            val_accuracy,\n",
        "            train_f1,\n",
        "            val_f1,\n",
        "            train_precision,\n",
        "            val_precision,\n",
        "            train_recall,\n",
        "            val_recall,\n",
        "            train_confusion_matrix,\n",
        "            val_confusion_matrix\n",
        "        )\n",
        "\n",
        "    time_elapsed = time.time() - since\n",
        "    print('Training complete in {:.0f}m {:.0f}s'.format(time_elapsed // 60, time_elapsed % 60))\n",
        "    print('Best val Acc: {:4f}'.format(best_acc))\n",
        "\n",
        "    # load best model weights\n",
        "    model.load_state_dict(best_model_wts)\n",
        "    return model, train_loss_history, val_loss_history, train_acc_history, val_acc_history, train_f1_score, val_f1_score, plot_epoch\n",
        "\n",
        "def check_accuracy(loader, model):\n",
        "    num_correct = 0\n",
        "    num_samples = 0\n",
        "    model.eval()\n",
        "\n",
        "    with torch.no_grad():\n",
        "        i = args.batch_size\n",
        "\n",
        "        pbar = tqdm(loader)\n",
        "        for sample in pbar:\n",
        "            x = sample[\"video\"].to(device=device)\n",
        "            y = sample[\"action\"].to(device=device)\n",
        "\n",
        "            scores = model(x)\n",
        "            predictions = scores.argmax(1)\n",
        "            y = y.argmax(1)\n",
        "\n",
        "            num_correct += (predictions == y).sum()\n",
        "            num_samples += predictions.size(0)\n",
        "\n",
        "            pbar.set_description('Progress: {}'.format(i/args.test_n))\n",
        "            i += args.batch_size\n",
        "\n",
        "        print(f'Got {num_correct} / {num_samples} with accuracy {float(num_correct)/float(num_samples)*100:.2f}')\n",
        "\n",
        "    model.train()\n",
        "\n",
        "if __name__ == \"__main__\":\n",
        "    print(\"PyTorch Version: \", torch.__version__)\n",
        "    print(\"Torchvision Version: \", torchvision.__version__)\n",
        "    print(\"Current Device: \", torch.cuda.current_device())\n",
        "    print(\"Device: \", torch.cuda.device(0))\n",
        "    print(\"Cuda Is Available: \", torch.cuda.is_available())\n",
        "    print(\"Device Count: \", torch.cuda.device_count())\n",
        "\n",
        "    # Initialize R(2+1)D Model\n",
        "    model = models.video.r2plus1d_18(pretrained=args.pretrained, progress=True)\n",
        "\n",
        "    # change final fully-connected layer to output 10 classes\n",
        "    for param in model.parameters():\n",
        "        param.requires_grad = False\n",
        "\n",
        "    # Get the number of features before modifying the fc layer\n",
        "    num_ftrs = model.fc.in_features\n",
        "\n",
        "    # Adding dropout layer before the final fully connected layer\n",
        "    dropout_rate = 0.5  # You can adjust the dropout rate here\n",
        "    model.fc = nn.Sequential(\n",
        "        nn.Dropout(dropout_rate),\n",
        "        nn.Linear(num_ftrs, args.num_classes)\n",
        "    )\n",
        "\n",
        "\n",
        "    for name, param in model.named_parameters():\n",
        "        for layer in args.layers_list:\n",
        "            if layer in name:\n",
        "                param.requires_grad = True\n",
        "    # New Model is trained with 128x176 images\n",
        "    # Calculation:\n",
        "    model.fc = nn.Linear(num_ftrs, args.num_classes, bias=True)\n",
        "    print(model)\n",
        "\n",
        "    params_to_update = model.parameters()\n",
        "    print(\"Params to learn:\")\n",
        "    params_to_update = []\n",
        "    for name, param in model.named_parameters():\n",
        "        if param.requires_grad == True:\n",
        "            params_to_update.append(param)\n",
        "            print(\"\\t\", name)\n",
        "\n",
        "    if device.type == 'cuda':\n",
        "        print(torch.cuda.get_device_name(0))\n",
        "        print('Memory Usage:')\n",
        "        print('Allocated:', round(torch.cuda.memory_allocated(0) / 1024 ** 3, 1), 'GB')\n",
        "        print('Cached:   ', round(torch.cuda.memory_reserved(0) / 1024 ** 3, 1), 'GB')\n",
        "        print(\" \")\n",
        "\n",
        "    # Transforms\n",
        "    sometimes = lambda aug: vidaug.Sometimes(0.5, aug)  # Used to apply augmentor with 50% probability\n",
        "    video_augmentation = vidaug.Sequential([\n",
        "        sometimes(vidaug.Salt()),\n",
        "        sometimes(vidaug.Pepper()),\n",
        "    ], random_order=True)\n",
        "\n",
        "    #Load Dataset\n",
        "    basketball_dataset = BasketballDataset(annotation_dict=args.annotation_path,\n",
        "                                           augmented_dict=args.augmented_annotation_path)\n",
        "\n",
        "    train_subset, test_subset = random_split(\n",
        "    basketball_dataset, [args.n_total-args.test_n, args.test_n], generator=torch.Generator().manual_seed(1))\n",
        "\n",
        "    train_subset, val_subset = random_split(\n",
        "        train_subset, [args.n_total-args.test_n-args.val_n, args.val_n], generator=torch.Generator().manual_seed(1))\n",
        "\n",
        "    train_loader = DataLoader(dataset=train_subset, shuffle=True, batch_size=args.batch_size)\n",
        "    val_loader = DataLoader(dataset=val_subset, shuffle=False, batch_size=args.batch_size)\n",
        "    test_loader = DataLoader(dataset=test_subset, shuffle=False, batch_size=args.batch_size)\n",
        "\n",
        "    dataloaders_dict = {'train': train_loader, 'val': val_loader}\n",
        "\n",
        "    # Train\n",
        "    optimizer_ft = optim.Adam(params_to_update, lr=args.lr)\n",
        "\n",
        "    criterion = nn.CrossEntropyLoss()\n",
        "\n",
        "    if args.continue_epoch:\n",
        "        model = load_weights(model, args)\n",
        "\n",
        "    if torch.cuda.is_available():\n",
        "        # Put model into device after updating parameters\n",
        "        model = model.to(device)\n",
        "        criterion = criterion.to(device)\n",
        "\n",
        "    # Train and evaluate\n",
        "    model, train_loss_history, val_loss_history, train_acc_history, val_acc_history, train_f1_score, val_f1_score, plot_epoch = train_model(model,\n",
        "                                                                                                                                            dataloaders_dict,\n",
        "                                                                                                                                            criterion,\n",
        "                                                                                                                                            optimizer_ft,\n",
        "                                                                                                                                            args,\n",
        "                                                                                                                                            start_epoch=args.start_epoch,\n",
        "                                                                                                                                            num_epochs=args.num_epochs)\n",
        "\n",
        "        # 将数据从 GPU 转移至 CPU 并转换为 NumPy 数组，以便绘图\n",
        "    train_acc = [x.cpu().numpy() for x in train_acc_history]\n",
        "    val_acc = [x.cpu().numpy() for x in val_acc_history]\n",
        "    epochs = range(1, len(train_acc_history) + 1)\n",
        "\n",
        "    # 绘制训练和验证准确率图\n",
        "    plt.figure(figsize=(10, 5))\n",
        "    plt.subplot(121)\n",
        "    plt.plot(epochs, train_acc, label='Train Accuracy')\n",
        "    plt.plot(epochs, val_acc, label='Validation Accuracy')\n",
        "    plt.title('Training and Validation Accuracy')\n",
        "    plt.xlabel('Epoch')\n",
        "    plt.ylabel('Accuracy')\n",
        "    plt.legend()\n",
        "    plt.show()\n",
        "    print(\"Best Validation Loss: \", min(val_loss_history), \"Epoch: \", val_loss_history.index(min(val_loss_history)))\n",
        "    print(\"Best Training Loss: \", min(train_loss_history), \"Epoch: \", train_loss_history.index(min(train_loss_history)))\n",
        "\n",
        "    # Read History\n",
        "    read_history(args.history_path)\n",
        "\n",
        "    # Check Accuracy with Test Set\n",
        "    check_accuracy(test_loader, model)\n"
      ]
    },
    {
      "cell_type": "code",
      "source": [
        "\n",
        "    # Check Accuracy with Test Set\n",
        "    check_accuracy(test_loader, model)"
      ],
      "metadata": {
        "colab": {
          "base_uri": "https://localhost:8080/"
        },
        "id": "d8MEyO4fl8yX",
        "outputId": "d3f4e086-0dfa-45f9-beec-b77e9253dd7e"
      },
      "execution_count": null,
      "outputs": [
        {
          "output_type": "stream",
          "name": "stderr",
          "text": [
            "Progress: 1.002004008016032: 100%|██████████| 200/200 [1:03:47<00:00, 19.14s/it]\n"
          ]
        },
        {
          "output_type": "stream",
          "name": "stdout",
          "text": [
            "Got 4242 / 4990 with accuracy 85.01\n"
          ]
        }
      ]
    },
    {
      "cell_type": "code",
      "source": [
        "def check_accuracy(loader, model, device):\n",
        "    model.eval()  # Set model to evaluation mode\n",
        "\n",
        "    all_predictions = []\n",
        "    all_labels = []\n",
        "\n",
        "    with torch.no_grad():\n",
        "        pbar = tqdm(loader, desc=\"Evaluating\")\n",
        "        for sample in pbar:\n",
        "            videos = sample[\"video\"].to(device)\n",
        "            labels = sample[\"action\"].to(device)\n",
        "\n",
        "            # Compute model output\n",
        "            outputs = model(videos)\n",
        "            _, preds = torch.max(outputs, 1)\n",
        "\n",
        "            # 如果标签是独热编码，需要转换它们为类别索引\n",
        "            if labels.ndim > 1 and labels.size(1) > 1:\n",
        "                labels = labels.argmax(dim=1)\n",
        "\n",
        "            # Append predictions and labels\n",
        "            all_predictions.extend(preds.cpu().numpy())\n",
        "            all_labels.extend(labels.cpu().numpy())\n",
        "\n",
        "    # Compute metrics\n",
        "    accuracy = accuracy_score(all_labels, all_predictions)\n",
        "    precision = precision_score(all_labels, all_predictions, average='macro', zero_division=0)\n",
        "    recall = recall_score(all_labels, all_predictions, average='macro', zero_division=0)\n",
        "    f1 = f1_score(all_labels, all_predictions, average='macro', zero_division=0)\n",
        "    cm = confusion_matrix(all_labels, all_predictions)\n",
        "\n",
        "    print(f\"Accuracy: {accuracy * 100:.2f}%\")\n",
        "    print(f\"Precision: {precision:.4f}\")\n",
        "    print(f\"Recall: {recall:.4f}\")\n",
        "    print(f\"F1 Score: {f1:.4f}\")\n",
        "    print(\"Confusion Matrix:\")\n",
        "    print(cm)\n",
        "\n",
        "    model.train()  # Set model back to training mode\n",
        "\n",
        "# Usage example\n",
        "device = torch.device(\"cuda\" if torch.cuda.is_available() else \"cpu\")\n",
        "\n",
        "check_accuracy(test_loader, model, device)"
      ],
      "metadata": {
        "colab": {
          "base_uri": "https://localhost:8080/"
        },
        "id": "jnZATqrq7YWv",
        "outputId": "969acb96-5fea-4319-b5f4-71c4b4a9b575"
      },
      "execution_count": null,
      "outputs": [
        {
          "output_type": "stream",
          "name": "stderr",
          "text": [
            "Evaluating: 100%|██████████| 200/200 [06:04<00:00,  1.82s/it]"
          ]
        },
        {
          "output_type": "stream",
          "name": "stdout",
          "text": [
            "Accuracy: 85.01%\n",
            "Precision: 0.8741\n",
            "Recall: 0.8537\n",
            "F1 Score: 0.8618\n",
            "Confusion Matrix:\n",
            "[[ 477    6    5    0    7    3    3    2    0    6]\n",
            " [   5  487    3    3    3    4    0    2    0    0]\n",
            " [   1    0  529    4    2    1    4    2    0   54]\n",
            " [   0    5   16  311    0    5    4    0    0    6]\n",
            " [   2    4    0    0  218    1    0    0    0    0]\n",
            " [   4   18    8   14    2  203    2    1    6   14]\n",
            " [   0    3   16    3    0    5  254    4   40   70]\n",
            " [   2    1    2    0    0    0    2  316    2   11]\n",
            " [   3    4    4    0    0    2   29    4  434  138]\n",
            " [   3    4   69    1    0    4   27    4   59 1013]]\n"
          ]
        },
        {
          "output_type": "stream",
          "name": "stderr",
          "text": [
            "\n"
          ]
        }
      ]
    },
    {
      "cell_type": "markdown",
      "metadata": {
        "id": "maf0Di-lXhUW"
      },
      "source": [
        "CONV-LSTM Model"
      ]
    },
    {
      "cell_type": "markdown",
      "metadata": {
        "id": "rmJy3U074qD7"
      },
      "source": [
        "資料載入"
      ]
    },
    {
      "cell_type": "code",
      "execution_count": null,
      "metadata": {
        "colab": {
          "base_uri": "https://localhost:8080/"
        },
        "id": "ssi0FQp54iHb",
        "outputId": "73c3f8d0-dbe6-419e-d081-1cdb6504bb86"
      },
      "outputs": [
        {
          "name": "stdout",
          "output_type": "stream",
          "text": [
            "8\n",
            "8\n",
            "49899\n"
          ]
        }
      ],
      "source": [
        "import json\n",
        "import numpy as np\n",
        "import cv2\n",
        "\n",
        "import torch\n",
        "from torch.utils.data import Dataset\n",
        "from torchvision import transforms\n",
        "\n",
        "base_dir = '/content/drive/My Drive/dataset/'\n",
        "\n",
        "class VideoDataset(Dataset):\n",
        "    \"\"\"SpaceJam: a Dataset for Basketball Action Recognition.\"\"\"\n",
        "\n",
        "    def __init__(self, annotation_dict, augmented_dict, video_dir=base_dir+\"examples/\", augmented_dir=base_dir+\"augmented-examples/\", augment=True, transform=None, poseData=False):\n",
        "        with open(annotation_dict) as f:\n",
        "            self.video_list = list(json.load(f).items())\n",
        "\n",
        "        if augment:\n",
        "            self.augment = augment\n",
        "            with open(augmented_dict) as f:\n",
        "                augmented_list = list(json.load(f).items())\n",
        "            self.augmented_dir = augmented_dir\n",
        "            # extend with augmented data\n",
        "            self.video_list.extend(augmented_list)\n",
        "\n",
        "        self.video_dir = video_dir\n",
        "        self.poseData = poseData\n",
        "        self.transform = transform\n",
        "\n",
        "    def __len__(self):\n",
        "        # 返回视频列表的长度作为数据集的长度\n",
        "        return len(self.video_list)\n",
        "\n",
        "    def __getitem__(self, idx):\n",
        "      video_id = self.video_list[idx][0]\n",
        "      encoding = int(self.video_list[idx][1])\n",
        "      video = self.VideoToNumpy(video_id)\n",
        "      if video is None:\n",
        "        return None\n",
        "      sample = {'video_id': video_id, 'video': torch.from_numpy(video).float(), 'action': encoding, 'class': encoding}\n",
        "      return sample\n",
        "\n",
        "    def VideoToNumpy(self, video_id):\n",
        "      video_path = os.path.join(self.video_dir, video_id + \".mp4\")\n",
        "      video = cv2.VideoCapture(video_path)\n",
        "      if not video.isOpened():\n",
        "        augmented_video_path = os.path.join(self.augmented_dir, video_id + \".mp4\")\n",
        "        video = cv2.VideoCapture(augmented_video_path)\n",
        "        if not video.isOpened():\n",
        "            print(f\"Cannot read video: {video_path} or {augmented_video_path}\")\n",
        "            return None\n",
        "\n",
        "      video_frames = []\n",
        "      while True:\n",
        "        success, frame = video.read()\n",
        "        if not success:\n",
        "            break\n",
        "        frame = frame.astype(np.float32) / 255.0\n",
        "        frame = np.transpose(frame, (2, 0, 1))\n",
        "        video_frames.append(frame)\n",
        "\n",
        "      video.release()\n",
        "      # 如果帧数不足16，重复最后一帧直到达到16帧\n",
        "      while len(video_frames) < 16:\n",
        "        video_frames.append(video_frames[-1])  # 假设视频至少有一帧\n",
        "\n",
        "      return np.array(video_frames)\n",
        "\n",
        "\n",
        "if __name__ == \"__main__\":\n",
        "    video_dataset = VideoDataset(annotation_dict=base_dir + \"annotation_dict.json\",\n",
        "                                 augmented_dict=base_dir + \"augmented_annotation_dict.json\")\n",
        "    print(video_dataset[1]['action'])\n",
        "    print(video_dataset[1]['class'])\n",
        "    print(len(video_dataset))\n"
      ]
    },
    {
      "cell_type": "markdown",
      "metadata": {
        "id": "3gHNPTwe7NQf"
      },
      "source": [
        "參數設置"
      ]
    },
    {
      "cell_type": "code",
      "execution_count": null,
      "metadata": {
        "id": "Eh4MdBa37NCB"
      },
      "outputs": [],
      "source": [
        "from easydict import EasyDict\n",
        "\n",
        "base_dir = '/content/drive/My Drive/dataset/'  # 确保这个路径是正确的\n",
        "\n",
        "args = EasyDict({\n",
        "    'base_model_name': 'conv-lstm',\n",
        "    'pretrained': True,\n",
        "    'lr': 0.0001,\n",
        "    'start_epoch': 1,\n",
        "    'num_epochs': 6,\n",
        "    'layers_list': ['layer3', 'layer4', 'fc'],\n",
        "    'continue_epoch': False,\n",
        "    'num_classes': 10,\n",
        "    'batch_size': 25,\n",
        "    'n_total': 49899,\n",
        "    'test_n': 4990,\n",
        "    'val_n': 9980,\n",
        "    'annotation_path': base_dir + \"annotation_dict.json\",\n",
        "    'augmented_annotation_path': base_dir + \"augmented_annotation_dict.json\",\n",
        "    'device': 'cuda' if torch.cuda.is_available() else 'cpu'\n",
        "})\n"
      ]
    },
    {
      "cell_type": "markdown",
      "metadata": {
        "id": "v-ea6G9C4rqC"
      },
      "source": [
        "模型定義"
      ]
    },
    {
      "cell_type": "code",
      "execution_count": null,
      "metadata": {
        "id": "sL3aRDDIoet0"
      },
      "outputs": [],
      "source": [
        "import torch\n",
        "import torch.nn as nn\n",
        "import torchvision.models as models\n",
        "\n",
        "class ConvLSTM(nn.Module):\n",
        "    def __init__(self, num_classes, hidden_size=256, lstm_layers=1, dropout_rate=0.5):\n",
        "        super(ConvLSTM, self).__init__()\n",
        "        self.resnet = models.resnet18(pretrained=True)  # 使用ResNet18作为特征提取器\n",
        "        self.resnet.fc = nn.Identity()  # 移除原有的全连接层\n",
        "        self.lstm = nn.LSTM(512, hidden_size, lstm_layers, batch_first=True)\n",
        "        self.dropout = nn.Dropout(dropout_rate)  # 添加dropout层\n",
        "        self.fc = nn.Linear(hidden_size, num_classes)\n",
        "\n",
        "    def forward(self, x):\n",
        "        # x: (batch_size, timesteps, C, H, W)\n",
        "        b, t, C, H, W = x.size()\n",
        "        c_in = x.view(b * t, C, H, W)  # 合并batch和timesteps\n",
        "        c_out = self.resnet(c_in)  # (b*t, 512)\n",
        "        r_out = c_out.view(b, t, -1)  # 重新分割batch和timesteps\n",
        "        h_n, _ = self.lstm(r_out)  # 只使用最后的hidden state\n",
        "        h_n = self.dropout(h_n[:, -1, :])  # 在LSTM输出后应用dropout\n",
        "        output = self.fc(h_n)  # 取LSTM输出的最后一个时间步\n",
        "        return output\n",
        "\n"
      ]
    },
    {
      "cell_type": "markdown",
      "metadata": {
        "id": "bCjN6Jz149ca"
      },
      "source": [
        "Dataloader設置"
      ]
    },
    {
      "cell_type": "code",
      "execution_count": null,
      "metadata": {
        "id": "ks22rQ4q4__j"
      },
      "outputs": [],
      "source": [
        "from torch.utils.data import DataLoader, random_split\n",
        "\n",
        "# 假设args包含所有必要的参数\n",
        "video_dataset = VideoDataset(annotation_dict=args.annotation_path, augmented_dict=args.augmented_annotation_path)\n",
        "\n",
        "# 确定训练集、验证集和测试集的大小\n",
        "train_size = 34929\n",
        "val_size = 9980\n",
        "test_size = 4990  # 测试集大小\n",
        "\n",
        "# 确保总大小与分配匹配\n",
        "total_size = train_size + val_size + test_size\n",
        "assert total_size == len(video_dataset), \"Size mismatch\"\n",
        "\n",
        "# 划分数据集\n",
        "train_val_dataset, test_dataset = random_split(video_dataset, [train_size + val_size, test_size], generator=torch.Generator().manual_seed(42))\n",
        "train_dataset, val_dataset = random_split(train_val_dataset, [train_size, val_size], generator=torch.Generator().manual_seed(42))\n",
        "\n",
        "# 创建DataLoaders\n",
        "train_loader = DataLoader(train_dataset, batch_size=args.batch_size, shuffle=True)\n",
        "val_loader = DataLoader(val_dataset, batch_size=args.batch_size, shuffle=False)\n",
        "test_loader = DataLoader(test_dataset, batch_size=args.batch_size, shuffle=False)\n",
        "\n"
      ]
    },
    {
      "cell_type": "markdown",
      "metadata": {
        "id": "iP4UGE7n64OJ"
      },
      "source": [
        "訓練"
      ]
    },
    {
      "cell_type": "code",
      "execution_count": null,
      "metadata": {
        "colab": {
          "base_uri": "https://localhost:8080/"
        },
        "id": "ktHCemOB81QN",
        "outputId": "13f506f0-a7ff-4f73-8e1c-ec1b8f02f863"
      },
      "outputs": [
        {
          "name": "stdout",
          "output_type": "stream",
          "text": [
            "Collecting torchmetrics\n",
            "  Downloading torchmetrics-1.4.0-py3-none-any.whl (868 kB)\n",
            "\u001b[?25l     \u001b[90m━━━━━━━━━━━━━━━━━━━━━━━━━━━━━━━━━━━━━━━━\u001b[0m \u001b[32m0.0/868.8 kB\u001b[0m \u001b[31m?\u001b[0m eta \u001b[36m-:--:--\u001b[0m\r\u001b[2K     \u001b[91m━━━━━━━━━━━━━━\u001b[0m\u001b[91m╸\u001b[0m\u001b[90m━━━━━━━━━━━━━━━━━━━━━━━━━\u001b[0m \u001b[32m317.4/868.8 kB\u001b[0m \u001b[31m9.6 MB/s\u001b[0m eta \u001b[36m0:00:01\u001b[0m\r\u001b[2K     \u001b[91m━━━━━━━━━━━━━━━━━━━━━━━━━━━━━━━━━━━━━━━\u001b[0m\u001b[91m╸\u001b[0m \u001b[32m860.2/868.8 kB\u001b[0m \u001b[31m14.2 MB/s\u001b[0m eta \u001b[36m0:00:01\u001b[0m\r\u001b[2K     \u001b[90m━━━━━━━━━━━━━━━━━━━━━━━━━━━━━━━━━━━━━━━━\u001b[0m \u001b[32m868.8/868.8 kB\u001b[0m \u001b[31m12.3 MB/s\u001b[0m eta \u001b[36m0:00:00\u001b[0m\n",
            "\u001b[?25hRequirement already satisfied: numpy>1.20.0 in /usr/local/lib/python3.10/dist-packages (from torchmetrics) (1.25.2)\n",
            "Requirement already satisfied: packaging>17.1 in /usr/local/lib/python3.10/dist-packages (from torchmetrics) (24.0)\n",
            "Requirement already satisfied: torch>=1.10.0 in /usr/local/lib/python3.10/dist-packages (from torchmetrics) (2.2.1+cu121)\n",
            "Collecting lightning-utilities>=0.8.0 (from torchmetrics)\n",
            "  Downloading lightning_utilities-0.11.2-py3-none-any.whl (26 kB)\n",
            "Collecting pretty-errors==1.2.25 (from torchmetrics)\n",
            "  Downloading pretty_errors-1.2.25-py3-none-any.whl (17 kB)\n",
            "Collecting colorama (from pretty-errors==1.2.25->torchmetrics)\n",
            "  Downloading colorama-0.4.6-py2.py3-none-any.whl (25 kB)\n",
            "Requirement already satisfied: setuptools in /usr/local/lib/python3.10/dist-packages (from lightning-utilities>=0.8.0->torchmetrics) (67.7.2)\n",
            "Requirement already satisfied: typing-extensions in /usr/local/lib/python3.10/dist-packages (from lightning-utilities>=0.8.0->torchmetrics) (4.11.0)\n",
            "Requirement already satisfied: filelock in /usr/local/lib/python3.10/dist-packages (from torch>=1.10.0->torchmetrics) (3.14.0)\n",
            "Requirement already satisfied: sympy in /usr/local/lib/python3.10/dist-packages (from torch>=1.10.0->torchmetrics) (1.12)\n",
            "Requirement already satisfied: networkx in /usr/local/lib/python3.10/dist-packages (from torch>=1.10.0->torchmetrics) (3.3)\n",
            "Requirement already satisfied: jinja2 in /usr/local/lib/python3.10/dist-packages (from torch>=1.10.0->torchmetrics) (3.1.4)\n",
            "Requirement already satisfied: fsspec in /usr/local/lib/python3.10/dist-packages (from torch>=1.10.0->torchmetrics) (2023.6.0)\n",
            "Requirement already satisfied: nvidia-cuda-nvrtc-cu12==12.1.105 in /usr/local/lib/python3.10/dist-packages (from torch>=1.10.0->torchmetrics) (12.1.105)\n",
            "Requirement already satisfied: nvidia-cuda-runtime-cu12==12.1.105 in /usr/local/lib/python3.10/dist-packages (from torch>=1.10.0->torchmetrics) (12.1.105)\n",
            "Requirement already satisfied: nvidia-cuda-cupti-cu12==12.1.105 in /usr/local/lib/python3.10/dist-packages (from torch>=1.10.0->torchmetrics) (12.1.105)\n",
            "Requirement already satisfied: nvidia-cudnn-cu12==8.9.2.26 in /usr/local/lib/python3.10/dist-packages (from torch>=1.10.0->torchmetrics) (8.9.2.26)\n",
            "Requirement already satisfied: nvidia-cublas-cu12==12.1.3.1 in /usr/local/lib/python3.10/dist-packages (from torch>=1.10.0->torchmetrics) (12.1.3.1)\n",
            "Requirement already satisfied: nvidia-cufft-cu12==11.0.2.54 in /usr/local/lib/python3.10/dist-packages (from torch>=1.10.0->torchmetrics) (11.0.2.54)\n",
            "Requirement already satisfied: nvidia-curand-cu12==10.3.2.106 in /usr/local/lib/python3.10/dist-packages (from torch>=1.10.0->torchmetrics) (10.3.2.106)\n",
            "Requirement already satisfied: nvidia-cusolver-cu12==11.4.5.107 in /usr/local/lib/python3.10/dist-packages (from torch>=1.10.0->torchmetrics) (11.4.5.107)\n",
            "Requirement already satisfied: nvidia-cusparse-cu12==12.1.0.106 in /usr/local/lib/python3.10/dist-packages (from torch>=1.10.0->torchmetrics) (12.1.0.106)\n",
            "Requirement already satisfied: nvidia-nccl-cu12==2.19.3 in /usr/local/lib/python3.10/dist-packages (from torch>=1.10.0->torchmetrics) (2.19.3)\n",
            "Requirement already satisfied: nvidia-nvtx-cu12==12.1.105 in /usr/local/lib/python3.10/dist-packages (from torch>=1.10.0->torchmetrics) (12.1.105)\n",
            "Requirement already satisfied: triton==2.2.0 in /usr/local/lib/python3.10/dist-packages (from torch>=1.10.0->torchmetrics) (2.2.0)\n",
            "Requirement already satisfied: nvidia-nvjitlink-cu12 in /usr/local/lib/python3.10/dist-packages (from nvidia-cusolver-cu12==11.4.5.107->torch>=1.10.0->torchmetrics) (12.4.127)\n",
            "Requirement already satisfied: MarkupSafe>=2.0 in /usr/local/lib/python3.10/dist-packages (from jinja2->torch>=1.10.0->torchmetrics) (2.1.5)\n",
            "Requirement already satisfied: mpmath>=0.19 in /usr/local/lib/python3.10/dist-packages (from sympy->torch>=1.10.0->torchmetrics) (1.3.0)\n",
            "Installing collected packages: lightning-utilities, colorama, pretty-errors, torchmetrics\n",
            "Successfully installed colorama-0.4.6 lightning-utilities-0.11.2 pretty-errors-1.2.25 torchmetrics-1.4.0\n"
          ]
        }
      ],
      "source": [
        "!pip install torchmetrics"
      ]
    },
    {
      "cell_type": "code",
      "execution_count": null,
      "metadata": {
        "colab": {
          "base_uri": "https://localhost:8080/"
        },
        "id": "RSBAwP1EBCov",
        "outputId": "71cea710-a20e-45b5-8345-95ca9a844949"
      },
      "outputs": [
        {
          "name": "stdout",
          "output_type": "stream",
          "text": [
            "Requirement already satisfied: tqdm in /usr/local/lib/python3.10/dist-packages (4.66.4)\n"
          ]
        }
      ],
      "source": [
        "!pip install tqdm"
      ]
    },
    {
      "cell_type": "code",
      "execution_count": null,
      "metadata": {
        "colab": {
          "background_save": true,
          "base_uri": "https://localhost:8080/"
        },
        "id": "hfTgfSTe657P",
        "outputId": "e2495b6e-aa83-42a4-d698-88cd90748053"
      },
      "outputs": [
        {
          "name": "stderr",
          "output_type": "stream",
          "text": [
            "Epoch 1 [TRAIN]: 100%|██████████| 1398/1398 [4:50:18<00:00, 12.46s/it, loss=2.03]\n",
            "Epoch 1 [VALIDATE]: 100%|██████████| 400/400 [1:19:35<00:00, 11.94s/it, loss=0.511]\n"
          ]
        },
        {
          "name": "stdout",
          "output_type": "stream",
          "text": [
            "Train CM Epoch 1:\n",
            "tensor([[2329,  462,   56,    8,  129,   20,   45,  205,   41,  185],\n",
            "        [ 387, 2343,  104,  125,  119,  111,   40,  267,   54,  170],\n",
            "        [  20,   10, 2920,  150,    1,   20,  127,    6,   29,  938],\n",
            "        [  11,   42,  319, 1580,    2,  109,   86,    2,   24,  259],\n",
            "        [ 465,  372,    8,   15,  471,   29,    3,   57,   23,   77],\n",
            "        [  51,   64,  153,  293,   24,  584,  104,    6,   87,  293],\n",
            "        [  35,    6,  204,   70,    4,   30, 1352,   21,  292,  690],\n",
            "        [ 325,  471,   52,   12,   25,    7,   52, 1300,   51,  225],\n",
            "        [  32,   16,   42,   17,   11,   29,  203,   12, 2361, 1741],\n",
            "        [  56,   22,  613,   66,   11,   66,  349,   36, 1017, 5971]],\n",
            "       device='cuda:0')\n",
            "Validation CM Epoch 1:\n",
            "tensor([[ 688,   23,    7,    0,   70,   11,   30,  121,    5,   25],\n",
            "        [  25,  804,   16,    6,   32,   53,   10,   90,    3,   27],\n",
            "        [   0,    1,  909,    8,    0,    1,   45,    7,    3,  175],\n",
            "        [   0,   32,   55,  462,    0,  101,   19,    2,    2,   27],\n",
            "        [  61,   45,    2,    0,  269,   14,    0,   20,    0,    2],\n",
            "        [   6,   19,   33,   11,   12,  351,   16,    2,   12,   22],\n",
            "        [   4,    0,   18,    3,    0,   11,  604,   13,   41,   92],\n",
            "        [   9,   10,    6,    0,    0,    8,   16,  593,    9,   50],\n",
            "        [   3,    1,    3,    0,    1,   10,  111,    8,  935,  285],\n",
            "        [   4,    2,  116,    2,    6,   15,  163,   15,  316, 1705]],\n",
            "       device='cuda:0')\n"
          ]
        },
        {
          "name": "stderr",
          "output_type": "stream",
          "text": [
            "Epoch 2 [TRAIN]: 100%|██████████| 1398/1398 [18:54<00:00,  1.23it/s, loss=0.107]\n",
            "Epoch 2 [VALIDATE]: 100%|██████████| 400/400 [02:54<00:00,  2.30it/s, loss=0.251]\n"
          ]
        },
        {
          "name": "stdout",
          "output_type": "stream",
          "text": [
            "Train CM Epoch 2:\n",
            "tensor([[2975,  117,   27,    3,  114,   29,   41,   99,   14,   61],\n",
            "        [ 122, 3088,   39,  109,   71,  111,   12,   94,   13,   61],\n",
            "        [  17,   10, 3470,   52,    0,   23,   52,   12,    4,  581],\n",
            "        [   5,   63,   86, 2081,    2,  108,   34,    3,    4,   48],\n",
            "        [ 214,  124,    6,    5, 1111,   27,    0,   17,    2,   14],\n",
            "        [  44,   84,   59,  126,   30, 1169,   30,    7,   42,   68],\n",
            "        [  37,    6,   80,   32,    0,   36, 1878,   26,  204,  405],\n",
            "        [ 102,  101,   16,    5,    8,    6,   35, 2094,   37,  116],\n",
            "        [  22,   15,   16,    4,    7,   26,  229,   29, 2957, 1159],\n",
            "        [  46,   24,  477,   31,    3,   52,  325,   47,  880, 6322]],\n",
            "       device='cuda:0')\n",
            "Validation CM Epoch 2:\n",
            "tensor([[ 858,   15,    5,    1,   41,    2,   20,   14,    5,   19],\n",
            "        [  46,  897,    1,   12,   11,   47,   11,   14,    9,   18],\n",
            "        [   0,   10,  869,   18,    0,    6,   64,    5,    3,  174],\n",
            "        [   1,   11,   17,  561,    0,   91,    9,    0,    3,    7],\n",
            "        [  44,   20,    2,    0,  328,   11,    1,    4,    1,    2],\n",
            "        [   9,   16,   12,   20,    6,  382,   17,    1,   12,    9],\n",
            "        [   4,    0,    9,    2,    0,    2,  656,    3,   49,   61],\n",
            "        [  23,   13,    4,    0,    0,    0,   21,  600,    9,   31],\n",
            "        [   1,    3,    0,    0,    0,    1,   91,   14, 1046,  201],\n",
            "        [  11,    3,   69,    5,    0,    6,  214,   25,  392, 1619]],\n",
            "       device='cuda:0')\n"
          ]
        },
        {
          "name": "stderr",
          "output_type": "stream",
          "text": [
            "Epoch 3 [TRAIN]: 100%|██████████| 1398/1398 [18:54<00:00,  1.23it/s, loss=0.995]\n",
            "Epoch 3 [VALIDATE]: 100%|██████████| 400/400 [02:54<00:00,  2.29it/s, loss=0.403]\n"
          ]
        },
        {
          "name": "stdout",
          "output_type": "stream",
          "text": [
            "Train CM Epoch 3:\n",
            "tensor([[3208,   55,   16,    2,   72,   13,   26,   38,   16,   34],\n",
            "        [  63, 3379,   23,   66,   33,   51,    8,   58,   15,   24],\n",
            "        [  16,   10, 3623,   33,    2,   20,   42,    9,    1,  465],\n",
            "        [   0,   44,   54, 2207,    0,   92,   10,    3,    2,   22],\n",
            "        [ 106,   61,    3,    1, 1305,   23,    0,   10,    2,    9],\n",
            "        [  31,   56,   39,   90,   18, 1326,   28,    7,   17,   47],\n",
            "        [  36,    7,   40,   17,    0,   19, 2063,   25,  175,  322],\n",
            "        [  48,   46,   16,    2,    3,    5,   23, 2283,   16,   78],\n",
            "        [  17,    9,    8,    3,    3,   22,  180,   11, 3224,  987],\n",
            "        [  26,   19,  384,   24,    5,   24,  281,   43,  736, 6665]],\n",
            "       device='cuda:0')\n",
            "Validation CM Epoch 3:\n",
            "tensor([[ 940,    4,   11,    0,    3,    6,    1,    9,    0,    6],\n",
            "        [  71,  864,   18,   18,   13,   35,    1,   33,    3,   10],\n",
            "        [   1,    1, 1074,    2,    0,    2,    1,    0,    0,   68],\n",
            "        [   4,    8,   50,  607,    0,   16,    3,    1,    0,   11],\n",
            "        [  78,    6,    1,    0,  313,   13,    0,    2,    0,    0],\n",
            "        [  11,   14,   24,   36,    0,  377,    3,    0,    4,   15],\n",
            "        [  26,    2,   34,    9,    0,    6,  468,    8,   26,  207],\n",
            "        [  26,    2,    8,    0,    0,    2,    3,  619,    2,   39],\n",
            "        [   9,    1,   11,    0,    0,    5,   34,    4,  632,  661],\n",
            "        [  29,    0,  276,    2,    0,    8,   32,    8,   39, 1950]],\n",
            "       device='cuda:0')\n"
          ]
        },
        {
          "name": "stderr",
          "output_type": "stream",
          "text": [
            "Epoch 4 [TRAIN]: 100%|██████████| 1398/1398 [18:56<00:00,  1.23it/s, loss=0.321]\n",
            "Epoch 4 [VALIDATE]: 100%|██████████| 400/400 [02:54<00:00,  2.29it/s, loss=0.16]\n"
          ]
        },
        {
          "name": "stdout",
          "output_type": "stream",
          "text": [
            "Train CM Epoch 4:\n",
            "tensor([[3307,   33,   10,    3,   46,    4,   21,   23,   13,   20],\n",
            "        [  33, 3536,    8,   40,   15,   38,    2,   29,    8,   11],\n",
            "        [  12,    4, 3792,   28,    0,   12,   30,    4,    5,  334],\n",
            "        [   2,   34,   31, 2284,    1,   46,   14,    1,    1,   20],\n",
            "        [  65,   25,    0,    1, 1408,    7,    0,    4,    2,    8],\n",
            "        [  13,   39,   26,   67,   10, 1444,   11,    5,   21,   23],\n",
            "        [  24,    5,   30,   14,    0,   11, 2188,   13,  147,  272],\n",
            "        [  35,   32,    8,    2,    4,    6,   13, 2352,   18,   50],\n",
            "        [  10,    5,    8,    1,    2,   16,  134,   16, 3448,  824],\n",
            "        [  13,    7,  296,   12,    3,   23,  256,   26,  630, 6941]],\n",
            "       device='cuda:0')\n",
            "Validation CM Epoch 4:\n",
            "tensor([[ 844,   12,    2,    0,   74,    0,   18,   18,    4,    8],\n",
            "        [  13,  929,    5,   31,   26,   20,    7,   21,    6,    8],\n",
            "        [   0,    1,  878,   11,    0,    6,   19,   10,    3,  221],\n",
            "        [   0,    4,   12,  652,    0,   11,    7,    2,    2,   10],\n",
            "        [   9,    2,    1,    0,  398,    1,    0,    2,    0,    0],\n",
            "        [   6,   10,   12,   58,   24,  336,    9,    3,    8,   18],\n",
            "        [   9,    0,    6,    8,    1,    0,  606,   11,   67,   78],\n",
            "        [   4,    2,    1,    0,    0,    0,    2,  665,    4,   23],\n",
            "        [   3,    0,    0,    1,    3,    1,   55,   26, 1006,  262],\n",
            "        [   9,    2,   42,    3,    4,    8,   84,   37,  239, 1916]],\n",
            "       device='cuda:0')\n"
          ]
        },
        {
          "name": "stderr",
          "output_type": "stream",
          "text": [
            "Epoch 5 [TRAIN]: 100%|██████████| 1398/1398 [18:56<00:00,  1.23it/s, loss=0.936]\n",
            "Epoch 5 [VALIDATE]: 100%|██████████| 400/400 [02:54<00:00,  2.30it/s, loss=0.458]\n"
          ]
        },
        {
          "name": "stdout",
          "output_type": "stream",
          "text": [
            "Train CM Epoch 5:\n",
            "tensor([[3362,   21,    3,    0,   36,   10,    6,   17,    9,   16],\n",
            "        [  25, 3572,    9,   31,   16,   35,    0,   17,    5,   10],\n",
            "        [   5,    7, 3838,   24,    1,    6,   27,    2,    2,  309],\n",
            "        [   0,   20,   34, 2320,    0,   33,    8,    0,    1,   18],\n",
            "        [  44,   17,    0,    0, 1443,    7,    0,    5,    0,    4],\n",
            "        [  12,   32,   12,   52,    8, 1506,    8,    2,   10,   17],\n",
            "        [  15,    5,   28,   15,    0,    5, 2300,    6,  111,  219],\n",
            "        [  24,   19,    6,    1,    0,    1,   10, 2412,   15,   32],\n",
            "        [  11,    7,    5,    2,    2,   15,  126,   13, 3655,  628],\n",
            "        [  17,    3,  272,   10,    1,   19,  193,   26,  486, 7180]],\n",
            "       device='cuda:0')\n",
            "Validation CM Epoch 5:\n",
            "tensor([[ 880,   18,    4,    0,   15,    0,   15,   26,    5,   17],\n",
            "        [   7,  995,   11,   10,    2,   10,    2,   14,    5,   10],\n",
            "        [   0,    1, 1013,    5,    0,    0,    8,    0,    3,  119],\n",
            "        [   2,    9,   37,  625,    0,   13,    4,    0,    1,    9],\n",
            "        [  13,   12,    1,    0,  385,    2,    0,    0,    0,    0],\n",
            "        [   8,   36,   24,   38,    3,  337,    5,    0,   18,   15],\n",
            "        [   7,    0,   13,    2,    0,    1,  546,    1,   91,  125],\n",
            "        [   4,    4,    8,    1,    0,    0,    2,  633,   12,   37],\n",
            "        [   2,    2,    3,    0,    0,    1,   26,    2, 1008,  313],\n",
            "        [   7,    2,  132,    2,    0,    3,   45,    4,  227, 1922]],\n",
            "       device='cuda:0')\n"
          ]
        },
        {
          "name": "stderr",
          "output_type": "stream",
          "text": [
            "Epoch 6 [TRAIN]: 100%|██████████| 1398/1398 [18:56<00:00,  1.23it/s, loss=0.343]\n",
            "Epoch 6 [VALIDATE]: 100%|██████████| 400/400 [02:56<00:00,  2.27it/s, loss=0.34]\n"
          ]
        },
        {
          "name": "stdout",
          "output_type": "stream",
          "text": [
            "Train CM Epoch 6:\n",
            "tensor([[3389,   21,    6,    0,   24,    5,    7,   13,    6,    9],\n",
            "        [  15, 3618,    7,   21,    8,   19,    0,   19,    3,   10],\n",
            "        [   4,    6, 3951,   18,    0,    9,   18,    7,    0,  208],\n",
            "        [   0,   17,   20, 2347,    0,   31,    7,    0,    1,   11],\n",
            "        [  17,   13,    0,    1, 1474,    6,    0,    0,    2,    7],\n",
            "        [  14,   19,    5,   41,    9, 1536,    9,    1,   10,   15],\n",
            "        [  13,    0,   20,    7,    0,    5, 2386,    5,  103,  165],\n",
            "        [  13,   11,    4,    0,    1,    2,    7, 2453,    8,   21],\n",
            "        [   8,    2,    4,    0,    3,    5,  104,   10, 3842,  486],\n",
            "        [  12,    4,  197,    9,    2,   12,  149,   13,  385, 7424]],\n",
            "       device='cuda:0')\n",
            "Validation CM Epoch 6:\n",
            "tensor([[ 882,   34,    9,    0,    8,    6,    9,   12,    5,   15],\n",
            "        [   6,  999,    5,    4,   10,   24,    0,    5,    5,    8],\n",
            "        [   1,    1,  971,    9,    0,    6,    8,    0,    1,  152],\n",
            "        [   1,   12,   10,  602,    0,   65,    4,    0,    2,    4],\n",
            "        [   8,   12,    1,    0,  382,    8,    0,    1,    1,    0],\n",
            "        [   8,   12,   12,   13,    3,  418,    2,    0,    5,   11],\n",
            "        [   6,    4,   23,    5,    0,    8,  555,    1,   65,  119],\n",
            "        [   4,   14,    8,    1,    0,    6,    5,  613,   11,   39],\n",
            "        [   2,    8,    5,    0,    0,    5,   41,    6, 1013,  277],\n",
            "        [   4,    7,   98,    5,    1,   20,   43,    5,  252, 1909]],\n",
            "       device='cuda:0')\n",
            "Final Test Metrics: {'accuracy': 0.8174370527267456, 'precision': 0.8349653482437134, 'recall': 0.8174370527267456, 'f1': 0.825681746006012, 'loss': 0.5037794096767902}\n",
            "Test Confusion Matrix:\n",
            "tensor([[469,   9,   4,   0,   5,   2,   7,  12,   4,   6],\n",
            "        [  5, 524,   5,   4,   4,  13,   0,   4,   2,   3],\n",
            "        [  0,   0, 450,   5,   0,   0,   3,   0,   0,  96],\n",
            "        [  0,   3,   4, 318,   0,  27,   1,   0,   0,   3],\n",
            "        [  6,   7,   0,   0, 181,   2,   0,   1,   0,   0],\n",
            "        [  3,  12,   6,   5,   1, 184,   2,   0,   1,   5],\n",
            "        [  0,   1,   7,   4,   0,   7, 252,   0,  42,  63],\n",
            "        [  1,  11,   4,   0,   0,   3,   2, 302,   5,  11],\n",
            "        [  2,   3,   1,   1,   0,   6,  22,   1, 488, 145],\n",
            "        [  2,   1,  53,   5,   0,   5,  31,   3, 108, 990]], device='cuda:0')\n"
          ]
        }
      ],
      "source": [
        "import torch\n",
        "import torch.nn as nn\n",
        "from torch.optim import Adam\n",
        "from torch.utils.data import DataLoader, random_split\n",
        "from torchmetrics import ConfusionMatrix, Accuracy, Precision, Recall, F1Score\n",
        "from tqdm import tqdm\n",
        "import os\n",
        "base_dir = '/content/drive/My Drive/dataset/'\n",
        "# 初始化模型、优化器和损失函数\n",
        "model = ConvLSTM(num_classes=args.num_classes).to(args.device)\n",
        "optimizer = Adam(model.parameters(), lr=args.lr)\n",
        "criterion = nn.CrossEntropyLoss()\n",
        "\n",
        "# 初始化评价指标\n",
        "metrics = {\n",
        "    'accuracy': Accuracy(num_classes=args.num_classes, average='macro', task='multiclass').to(args.device),\n",
        "    'precision': Precision(num_classes=args.num_classes, average='macro', task='multiclass').to(args.device),\n",
        "    'recall': Recall(num_classes=args.num_classes, average='macro', task='multiclass').to(args.device),\n",
        "    'f1': F1Score(num_classes=args.num_classes, average='macro', task='multiclass').to(args.device)\n",
        "}\n",
        "\n",
        "# 准备数据加载器\n",
        "train_loader = DataLoader(train_dataset, batch_size=args.batch_size, shuffle=True)\n",
        "val_loader = DataLoader(val_dataset, batch_size=args.batch_size, shuffle=False)\n",
        "test_loader = DataLoader(test_dataset, batch_size=args.batch_size, shuffle=False)\n",
        "\n",
        "# 准备存储训练历史的文件夹和文件\n",
        "history_dir = os.path.join(base_dir+\"histories\")\n",
        "if not os.path.exists(history_dir):\n",
        "    os.makedirs(history_dir)\n",
        "history_path = os.path.join(history_dir, \"historyLSTM.txt\")\n",
        "\n",
        "# 添加精确度、召回率、F1分数和混淆矩阵到头部信息\n",
        "with open(history_path, \"w\") as f:\n",
        "    f.write(\"epoch,train_loss,train_accuracy,train_precision,train_recall,train_f1,validation_loss,validation_accuracy,validation_precision,validation_recall,validation_f1\\n\")\n",
        "\n",
        "\n",
        "def process_epoch(mode, model, loader, optimizer, criterion, device, metrics, history_file, epoch=None):\n",
        "    if mode == 'train':\n",
        "        model.train()\n",
        "    else:\n",
        "        model.eval()\n",
        "\n",
        "    total_loss = 0\n",
        "    confusion_matrix = ConfusionMatrix(num_classes=args.num_classes, task=\"multiclass\").to(device)\n",
        "    progress_bar = tqdm(loader, desc=f\"Epoch {epoch} [{mode.upper()}]\", total=len(loader))\n",
        "\n",
        "    for data in progress_bar:\n",
        "        videos = data['video'].to(device)\n",
        "        labels = data['action'].to(device)\n",
        "\n",
        "        if mode == 'train':\n",
        "            optimizer.zero_grad()\n",
        "\n",
        "        with torch.set_grad_enabled(mode == 'train'):\n",
        "            outputs = model(videos)\n",
        "            loss = criterion(outputs, labels)\n",
        "            if mode == 'train':\n",
        "                loss.backward()\n",
        "                optimizer.step()\n",
        "\n",
        "        total_loss += loss.item()\n",
        "        _, predicted = torch.max(outputs, 1)\n",
        "        confusion_matrix.update(predicted, labels)\n",
        "\n",
        "        for metric in metrics.values():\n",
        "            metric(outputs, labels)\n",
        "\n",
        "        progress_bar.set_postfix(loss=loss.item())\n",
        "\n",
        "    avg_loss = total_loss / len(loader)\n",
        "    metrics_results = {name: metric.compute().item() for name, metric in metrics.items()}\n",
        "    metrics_results['loss'] = avg_loss\n",
        "    cm = confusion_matrix.compute()\n",
        "\n",
        "    if history_file and epoch is not None:\n",
        "        history_file.write(f\"{epoch},{avg_loss},{metrics_results['accuracy']},{metrics_results['precision']},{metrics_results['recall']},{metrics_results['f1']}\\n\")\n",
        "\n",
        "    return metrics_results, cm\n",
        "\n",
        "#训练和验证循环调用\n",
        "with open(history_path, \"a\") as f:\n",
        "    for epoch in range(args.start_epoch, args.num_epochs + 1):\n",
        "        train_metrics, train_cm = process_epoch('train', model, train_loader, optimizer, criterion, args.device, metrics, None, epoch)\n",
        "        val_metrics, val_cm = process_epoch('validate', model, val_loader, None, criterion, args.device, metrics, None, epoch)\n",
        "\n",
        "        # 将训练和验证的结果写入文件\n",
        "        f.write(f\"{epoch},{train_metrics['loss']},{train_metrics['accuracy']},{train_metrics['precision']},{train_metrics['recall']},{train_metrics['f1']},\")\n",
        "        f.write(f\"{val_metrics['loss']},{val_metrics['accuracy']},{val_metrics['precision']},{val_metrics['recall']},{val_metrics['f1']}\\n\")\n",
        "\n",
        "        print(f\"Train CM Epoch {epoch}:\\n{train_cm}\")\n",
        "        print(f\"Validation CM Epoch {epoch}:\\n{val_cm}\")\n",
        "\n",
        "\n",
        "\n",
        "# 选项：完成所有训练后进行最终测试评估\n",
        "def evaluate(model, loader, criterion, device, metrics):\n",
        "    model.eval()\n",
        "    total_loss = 0\n",
        "    confusion_matrix = ConfusionMatrix(num_classes=args.num_classes, task=\"multiclass\").to(device)\n",
        "\n",
        "    with torch.no_grad():\n",
        "        for data in loader:\n",
        "            videos = data['video'].to(device)\n",
        "            labels = data['action'].to(device)\n",
        "            outputs = model(videos)\n",
        "            loss = criterion(outputs, labels)\n",
        "            total_loss += loss.item()\n",
        "\n",
        "            _, predicted = torch.max(outputs, 1)\n",
        "            confusion_matrix.update(predicted, labels)\n",
        "            for metric in metrics.values():\n",
        "                metric(outputs, labels)\n",
        "\n",
        "    avg_loss = total_loss / len(loader)\n",
        "    metrics_results = {name: metric.compute().item() for name, metric in metrics.items()}\n",
        "    metrics_results['loss'] = avg_loss\n",
        "    cm = confusion_matrix.compute()\n",
        "\n",
        "    return metrics_results, cm\n",
        "\n",
        "metrics, test_cm = evaluate(model, test_loader, criterion, args.device, metrics)\n",
        "print(f\"Final Test Metrics: {metrics}\")\n",
        "print(f\"Test Confusion Matrix:\\n{test_cm}\")\n",
        "\n",
        "\n"
      ]
    },
    {
      "cell_type": "markdown",
      "source": [
        "Error Analysis(R(2+1)D CNN Model)"
      ],
      "metadata": {
        "id": "xBfyGIlT2t85"
      }
    },
    {
      "cell_type": "code",
      "source": [
        "import numpy as np\n",
        "import matplotlib.pyplot as plt\n",
        "import seaborn as sns\n",
        "from sklearn.metrics import classification_report, confusion_matrix\n",
        "\n",
        "# 定义你的混淆矩阵和标签\n",
        "conf_matrix = np.array([\n",
        "    [477, 6, 5, 0, 7, 3, 3, 2, 0, 6],\n",
        "    [5, 487, 3, 3, 3, 4, 0, 2, 0, 0],\n",
        "    [1, 0, 529, 4, 2, 1, 4, 2, 0, 54],\n",
        "    [0, 5, 16, 311, 0, 5, 4, 0, 0, 6],\n",
        "    [2, 4, 0, 0, 218, 1, 0, 0, 0, 0],\n",
        "    [4, 18, 8, 14, 2, 203, 2, 1, 6, 14],\n",
        "    [0, 3, 16, 3, 0, 5, 254, 4, 40, 70],\n",
        "    [2, 1, 2, 0, 0, 0, 2, 316, 2, 11],\n",
        "    [3, 4, 4, 0, 0, 2, 29, 4, 434, 138],\n",
        "    [3, 4, 69, 1, 0, 4, 27, 4, 59, 1013]\n",
        "])\n",
        "\n",
        "labels = ['block', 'pass', 'run', 'dribble', 'shoot', 'ball in hand', 'defense', 'pick', 'no_action', 'walk']\n",
        "\n",
        "# 模拟实际标签和预测标签\n",
        "y_true = []\n",
        "y_pred = []\n",
        "for i, row in enumerate(conf_matrix):\n",
        "    for j, count in enumerate(row):\n",
        "        y_true.extend([i] * count)\n",
        "        y_pred.extend([j] * count)\n",
        "\n",
        "# 生成分类报告\n",
        "report = classification_report(y_true, y_pred, target_names=labels, output_dict=True)\n",
        "\n",
        "# 计算每个类别的准确率\n",
        "accuracies = conf_matrix.diagonal() / conf_matrix.sum(axis=1)\n",
        "\n",
        "# 打印分类报告并加入每个类别的准确率\n",
        "print(f\"{'Class':<15}{'Precision':<10}{'Recall':<10}{'F1-Score':<10}{'Accuracy':<10}\")\n",
        "for label in labels:\n",
        "    precision = report[label]['precision']\n",
        "    recall = report[label]['recall']\n",
        "    f1_score = report[label]['f1-score']\n",
        "    accuracy = accuracies[labels.index(label)]\n",
        "    print(f\"{label:<15}{precision:<10.2f}{recall:<10.2f}{f1_score:<10.2f}{accuracy:<10.2f}\")\n",
        "\n",
        "# 绘制混淆矩阵\n",
        "plt.figure(figsize=(10, 8))\n",
        "sns.heatmap(conf_matrix, annot=True, fmt='d', cmap='Blues', xticklabels=labels, yticklabels=labels)\n",
        "plt.xlabel('Predicted Labels')\n",
        "plt.ylabel('True Labels')\n",
        "plt.title('Confusion Matrix for R(2+1)D CNN Model on Test Set')\n",
        "plt.show()\n"
      ],
      "metadata": {
        "colab": {
          "base_uri": "https://localhost:8080/",
          "height": 977
        },
        "id": "38DFJ883bZtv",
        "outputId": "1d19b1ec-d4cb-4051-a92f-5267e80391b5"
      },
      "execution_count": null,
      "outputs": [
        {
          "output_type": "stream",
          "name": "stdout",
          "text": [
            "Class          Precision Recall    F1-Score  Accuracy  \n",
            "block          0.96      0.94      0.95      0.94      \n",
            "pass           0.92      0.96      0.94      0.96      \n",
            "run            0.81      0.89      0.85      0.89      \n",
            "dribble        0.93      0.90      0.91      0.90      \n",
            "shoot          0.94      0.97      0.95      0.97      \n",
            "ball in hand   0.89      0.75      0.81      0.75      \n",
            "defense        0.78      0.64      0.71      0.64      \n",
            "pick           0.94      0.94      0.94      0.94      \n",
            "no_action      0.80      0.70      0.75      0.70      \n",
            "walk           0.77      0.86      0.81      0.86      \n"
          ]
        },
        {
          "output_type": "display_data",
          "data": {
            "text/plain": [
              "<Figure size 1000x800 with 2 Axes>"
            ],
            "image/png": "[encoded data removed]"
          },
          "metadata": {}
        }
      ]
    },
    {
      "cell_type": "markdown",
      "source": [
        "Error Analysis(CONV-LSTM Model)"
      ],
      "metadata": {
        "id": "WflSe2xh2zlA"
      }
    },
    {
      "cell_type": "code",
      "source": [
        "import numpy as np\n",
        "import matplotlib.pyplot as plt\n",
        "import seaborn as sns\n",
        "from sklearn.metrics import classification_report, confusion_matrix\n",
        "\n",
        "# 定义你的混淆矩阵和标签\n",
        "conf_matrix = np.array([\n",
        "    [469,   9,   4,   0,   5,   2,   7,  12,   4,   6],\n",
        "        [  5, 524,   5,   4,   4,  13,   0,   4,   2,   3],\n",
        "        [  0,   0, 450,   5,   0,   0,   3,   0,   0,  96],\n",
        "        [  0,   3,   4, 318,   0,  27,   1,   0,   0,   3],\n",
        "        [  6,   7,   0,   0, 181,   2,   0,   1,   0,   0],\n",
        "        [  3,  12,   6,   5,   1, 184,   2,   0,   1,   5],\n",
        "        [  0,   1,   7,   4,   0,   7, 252,   0,  42,  63],\n",
        "        [  1,  11,   4,   0,   0,   3,   2, 302,   5,  11],\n",
        "        [  2,   3,   1,   1,   0,   6,  22,   1, 488, 145],\n",
        "        [  2,   1,  53,   5,   0,   5,  31,   3, 108, 990]\n",
        "])\n",
        "\n",
        "labels = ['block', 'pass', 'run', 'dribble', 'shoot', 'ball in hand', 'defense', 'pick', 'no_action', 'walk']\n",
        "\n",
        "# 模拟实际标签和预测标签\n",
        "y_true = []\n",
        "y_pred = []\n",
        "for i, row in enumerate(conf_matrix):\n",
        "    for j, count in enumerate(row):\n",
        "        y_true.extend([i] * count)\n",
        "        y_pred.extend([j] * count)\n",
        "\n",
        "# 生成分类报告\n",
        "report = classification_report(y_true, y_pred, target_names=labels, output_dict=True)\n",
        "\n",
        "# 计算每个类别的准确率\n",
        "accuracies = conf_matrix.diagonal() / conf_matrix.sum(axis=1)\n",
        "\n",
        "# 打印分类报告并加入每个类别的准确率\n",
        "print(f\"{'Class':<15}{'Precision':<10}{'Recall':<10}{'F1-Score':<10}{'Accuracy':<10}\")\n",
        "for label in labels:\n",
        "    precision = report[label]['precision']\n",
        "    recall = report[label]['recall']\n",
        "    f1_score = report[label]['f1-score']\n",
        "    accuracy = accuracies[labels.index(label)]\n",
        "    print(f\"{label:<15}{precision:<10.2f}{recall:<10.2f}{f1_score:<10.2f}{accuracy:<10.2f}\")\n",
        "\n",
        "# 绘制混淆矩阵\n",
        "plt.figure(figsize=(10, 8))\n",
        "sns.heatmap(conf_matrix, annot=True, fmt='d', cmap='Blues', xticklabels=labels, yticklabels=labels)\n",
        "plt.xlabel('Predicted Labels')\n",
        "plt.ylabel('True Labels')\n",
        "plt.title('Confusion Matrix for CONV-LSTM Model on Test Set')\n",
        "plt.show()\n"
      ],
      "metadata": {
        "colab": {
          "base_uri": "https://localhost:8080/",
          "height": 977
        },
        "id": "dUvy38gv4WoC",
        "outputId": "8ab391a3-73b1-49a1-bafd-1495a63791c1"
      },
      "execution_count": null,
      "outputs": [
        {
          "output_type": "stream",
          "name": "stdout",
          "text": [
            "Class          Precision Recall    F1-Score  Accuracy  \n",
            "block          0.96      0.91      0.93      0.91      \n",
            "pass           0.92      0.93      0.92      0.93      \n",
            "run            0.84      0.81      0.83      0.81      \n",
            "dribble        0.93      0.89      0.91      0.89      \n",
            "shoot          0.95      0.92      0.93      0.92      \n",
            "ball in hand   0.74      0.84      0.79      0.84      \n",
            "defense        0.79      0.67      0.72      0.67      \n",
            "pick           0.93      0.89      0.91      0.89      \n",
            "no_action      0.75      0.73      0.74      0.73      \n",
            "walk           0.75      0.83      0.79      0.83      \n"
          ]
        },
        {
          "output_type": "display_data",
          "data": {
            "text/plain": [
              "<Figure size 1000x800 with 2 Axes>"
            ],
            "image/png": "[encoded data removed]"
          },
          "metadata": {}
        }
      ]
    }
  ],
  "metadata": {
    "accelerator": "GPU",
    "colab": {
      "gpuType": "T4",
      "machine_shape": "hm",
      "provenance": []
    },
    "kernelspec": {
      "display_name": "Python 3",
      "name": "python3"
    },
    "language_info": {
      "name": "python"
    }
  },
  "nbformat": 4,
  "nbformat_minor": 0
}